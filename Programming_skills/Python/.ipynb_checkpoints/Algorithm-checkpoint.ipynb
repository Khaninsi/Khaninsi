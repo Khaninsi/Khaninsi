{
 "cells": [
  {
   "cell_type": "markdown",
   "id": "950de258",
   "metadata": {},
   "source": [
    "## 1. Binary Search"
   ]
  },
  {
   "cell_type": "code",
   "execution_count": 1,
   "id": "078a201f",
   "metadata": {},
   "outputs": [],
   "source": [
    "lst1 = [2, 3, 5, 7, 13, 20]\n",
    "        0  1. 2. 3. 4.  5\n",
    "    \n",
    "    "
   ]
  },
  {
   "cell_type": "code",
   "execution_count": 19,
   "id": "655eb924",
   "metadata": {},
   "outputs": [
    {
     "data": {
      "text/plain": [
       "1"
      ]
     },
     "execution_count": 19,
     "metadata": {},
     "output_type": "execute_result"
    }
   ],
   "source": [
    "lst2 = [i for i in range(1, 1024)]\n",
    "lst2[0]"
   ]
  },
  {
   "cell_type": "code",
   "execution_count": 22,
   "id": "6c488aaa",
   "metadata": {},
   "outputs": [
    {
     "name": "stdout",
     "output_type": "stream",
     "text": [
      "[2, 3, 5, 7, 13, 20]\n"
     ]
    },
    {
     "data": {
      "text/plain": [
       "5"
      ]
     },
     "execution_count": 22,
     "metadata": {},
     "output_type": "execute_result"
    }
   ],
   "source": [
    "def binary_search(lst, expected_value):\n",
    "    start = 0\n",
    "    end = len(lst) -1 \n",
    "    \n",
    "    while start <= end:\n",
    "        print(lst[start:end+1])\n",
    "        mid = (start + end) // 2\n",
    "        \n",
    "        if lst[mid] == expected_value:\n",
    "            return lst[mid]\n",
    "        elif lst[mid] < expected_value:\n",
    "            start = mid + 1\n",
    "        else:\n",
    "            end = mid - 1\n",
    "    \n",
    "    return False\n",
    "\n",
    "binary_search(lst1, 5)"
   ]
  },
  {
   "cell_type": "code",
   "execution_count": null,
   "id": "620606d0",
   "metadata": {},
   "outputs": [],
   "source": []
  },
  {
   "cell_type": "markdown",
   "id": "3f4c0685",
   "metadata": {},
   "source": [
    "## 2. Merge ranges (Greedy)"
   ]
  },
  {
   "cell_type": "code",
   "execution_count": 43,
   "id": "7947d433",
   "metadata": {},
   "outputs": [
    {
     "data": {
      "text/plain": [
       "[(1, 2), (2, 6), (3, 7), (12, 15), (4, 10)]"
      ]
     },
     "execution_count": 43,
     "metadata": {},
     "output_type": "execute_result"
    }
   ],
   "source": [
    "a = [(1, 2), (2, 6), (3, 7), (12, 15), (4, 10)]\n",
    "#a[-1] = (1, 5)\n",
    "#a[1:]\n",
    "a"
   ]
  },
  {
   "cell_type": "code",
   "execution_count": 44,
   "id": "87b00c1c",
   "metadata": {},
   "outputs": [
    {
     "name": "stdout",
     "output_type": "stream",
     "text": [
      "[(1, 2)]\n",
      "[(1, 6)]\n",
      "[(1, 7)]\n",
      "[(1, 10)]\n"
     ]
    },
    {
     "data": {
      "text/plain": [
       "[(1, 10), (12, 15)]"
      ]
     },
     "execution_count": 44,
     "metadata": {},
     "output_type": "execute_result"
    }
   ],
   "source": [
    "def merge_ranges(meetings):\n",
    "\n",
    "    # Sort by start time\n",
    "    sorted_meetings = sorted(meetings)\n",
    "\n",
    "    # Initialize merged_meetings with the earliest meeting\n",
    "    merged_meetings = [sorted_meetings[0]]\n",
    "    #print(merged_meetings)\n",
    "    \n",
    "\n",
    "    for current_meeting_start, current_meeting_end in sorted_meetings[1:]:\n",
    "        print(merged_meetings)\n",
    "        last_merged_meeting_start, last_merged_meeting_end = merged_meetings[-1]\n",
    "\n",
    "        # If the current meeting overlaps with the last merged meeting, use the\n",
    "        # later end time of the two\n",
    "        if (current_meeting_start <= last_merged_meeting_end):\n",
    "            merged_meetings[-1] = (last_merged_meeting_start,\n",
    "            max(last_merged_meeting_end,\n",
    "            current_meeting_end))\n",
    "        else:\n",
    "            # Add the current meeting since it doesn't overlap\n",
    "            merged_meetings.append((current_meeting_start, current_meeting_end))\n",
    "\n",
    "    return merged_meetings\n",
    "\n",
    "merge_ranges(a)"
   ]
  },
  {
   "cell_type": "code",
   "execution_count": 45,
   "id": "ab2bf906",
   "metadata": {},
   "outputs": [
    {
     "data": {
      "text/plain": [
       "[(1, 10), (12, 15)]"
      ]
     },
     "execution_count": 45,
     "metadata": {},
     "output_type": "execute_result"
    }
   ],
   "source": [
    "def merge_ranges_T(meetings):\n",
    "\n",
    "    # Sort by start time\n",
    "    sorted_meetings = sorted(meetings)\n",
    "\n",
    "    # Initialize merged_meetings with the earliest meeting\n",
    "    merged_meetings = [sorted_meetings[0]]\n",
    "    \n",
    "    for current_start, current_end in sorted_meetings[1:]:\n",
    "        last_start, last_end = merged_meetings[-1]\n",
    "        \n",
    "        if last_end >= current_start: # There is an overlapping\n",
    "            merged_meetings[-1] = (last_start, max(last_end, current_end))\n",
    "        else:\n",
    "            merged_meetings.append((current_start, current_end))\n",
    "    \n",
    "    return merged_meetings\n",
    "\n",
    "merge_ranges_T(a)"
   ]
  },
  {
   "cell_type": "markdown",
   "id": "f27e808b",
   "metadata": {},
   "source": [
    "### Complexity Analysis\n",
    "- Time: O(nlogn) Sorted take O(nlogn) but the for loop take only O(n)\n",
    "- Space: O(n) we create only a new list, which isn worse case it non-overlapping meetings."
   ]
  },
  {
   "cell_type": "markdown",
   "id": "c30c36f0",
   "metadata": {},
   "source": [
    "## 3. Reverse String"
   ]
  },
  {
   "cell_type": "code",
   "execution_count": 51,
   "id": "e14fc5b4",
   "metadata": {},
   "outputs": [],
   "source": [
    "lst3 = ['a', 'b', 'c', 'd', 'e', 'f', 'g', 'h']"
   ]
  },
  {
   "cell_type": "code",
   "execution_count": 52,
   "id": "230c6812",
   "metadata": {},
   "outputs": [
    {
     "data": {
      "text/plain": [
       "['e', 'd', 'c', 'b', 'a']"
      ]
     },
     "execution_count": 52,
     "metadata": {},
     "output_type": "execute_result"
    }
   ],
   "source": [
    "def reverse_string(lst):\n",
    "    start_ind = 0\n",
    "    end_ind   = len(lst) - 1\n",
    "    \n",
    "    while start_ind < end_ind:\n",
    "        lst[start_ind], lst[end_ind] = lst[end_ind], lst[start_ind]\n",
    "        \n",
    "        start_ind += 1\n",
    "        end_ind   -= 1\n",
    "    \n",
    "    return lst\n",
    "\n",
    "reverse_string(lst3)"
   ]
  },
  {
   "cell_type": "markdown",
   "id": "2933a5bd",
   "metadata": {},
   "source": [
    "### Complexity Analysis\n",
    "- Time: O(n) To be precise, it is n/2.\n",
    "- Space: O(1) I do not create a new list "
   ]
  },
  {
   "cell_type": "markdown",
   "id": "04175997",
   "metadata": {},
   "source": [
    "## 4. Merge Sort"
   ]
  },
  {
   "cell_type": "code",
   "execution_count": 107,
   "id": "25d06b4c",
   "metadata": {},
   "outputs": [],
   "source": [
    "lst1 = [1]\n",
    "lst2 = [1, 5, 8, 12, 14, 19]"
   ]
  },
  {
   "cell_type": "code",
   "execution_count": 109,
   "id": "557f23df",
   "metadata": {},
   "outputs": [
    {
     "name": "stdout",
     "output_type": "stream",
     "text": [
      "0 0\n",
      "[None, None, None, None, None, None, None]\n",
      "1 0\n",
      "[1, None, None, None, None, None, None]\n",
      "1 1\n",
      "[1, 1, None, None, None, None, None]\n",
      "1 2\n",
      "[1, 1, 5, None, None, None, None]\n",
      "1 3\n",
      "[1, 1, 5, 8, None, None, None]\n",
      "1 4\n",
      "[1, 1, 5, 8, 12, None, None]\n",
      "1 5\n",
      "[1, 1, 5, 8, 12, 14, None]\n"
     ]
    },
    {
     "data": {
      "text/plain": [
       "[1, 1, 5, 8, 12, 14, 19]"
      ]
     },
     "execution_count": 109,
     "metadata": {},
     "output_type": "execute_result"
    }
   ],
   "source": [
    "def merge_sort(lst1, lst2):\n",
    "    merge_list = [None] * (len(lst1) + len(lst2)) # Create a static array\n",
    "    #print(merge_list)\n",
    "    left_ind = 0\n",
    "    right_ind = 0\n",
    "    \n",
    "    for i in range(len(merge_list)):\n",
    "        #print(lst1, lst2)\n",
    "        print(left_ind, right_ind)\n",
    "        print(merge_list)\n",
    "        \n",
    "        if left_ind >= len(lst1):\n",
    "            merge_list[i] = lst2[right_ind]\n",
    "            right_ind += 1\n",
    "        elif right_ind >= len(lst2):\n",
    "            merge_list[i] = lst1[left_ind]\n",
    "            left_ind += 1\n",
    "            \n",
    "        elif lst1[left_ind] <= lst2[right_ind]: # Check only on the left side of each array\n",
    "            merge_list[i] = lst1[left_ind]\n",
    "            left_ind += 1\n",
    "        elif lst1[left_ind] > lst2[right_ind]: \n",
    "            merge_list[i] = lst2[right_ind]\n",
    "            right_ind += 1\n",
    "    \n",
    "    return merge_list\n",
    "\n",
    "merge_sort(lst1, lst2)"
   ]
  },
  {
   "cell_type": "markdown",
   "id": "1b358c81",
   "metadata": {},
   "source": [
    "## TODO: upgrade this function and do ex5 Cake Order"
   ]
  },
  {
   "cell_type": "code",
   "execution_count": null,
   "id": "572aba4d",
   "metadata": {},
   "outputs": [],
   "source": []
  },
  {
   "cell_type": "markdown",
   "id": "a2cebd87",
   "metadata": {},
   "source": [
    "## Hashing"
   ]
  },
  {
   "cell_type": "markdown",
   "id": "3afbfd61",
   "metadata": {},
   "source": [
    "**Ex1:** Write a function that takes an integer flight_length (in minutes) and a list of integers\n",
    "movie_lengths (in minutes) and returns a boolean indicating whether there are two\n",
    "numbers in movie_lengths whose sum equals flight_length."
   ]
  },
  {
   "cell_type": "code",
   "execution_count": 116,
   "id": "38aac46a",
   "metadata": {},
   "outputs": [],
   "source": [
    "flight_length = 10000\n",
    "movie_lengths = [3000, 7000, 6000, 5000, 2000, 5000]"
   ]
  },
  {
   "cell_type": "code",
   "execution_count": 118,
   "id": "6e184671",
   "metadata": {},
   "outputs": [
    {
     "data": {
      "text/plain": [
       "[1, 0]"
      ]
     },
     "execution_count": 118,
     "metadata": {},
     "output_type": "execute_result"
    }
   ],
   "source": [
    "def movies_choosing(movie_lengths, flight_length):\n",
    "    hash_map = {}\n",
    "    for i in range(len(movie_lengths)): # O(n)\n",
    "        complementary = flight_length - movie_lengths[i]\n",
    "        if complementary in hash_map:\n",
    "            return [i, hash_map[complementary]]\n",
    "        hash_map[movie_lengths[i]] = i\n",
    "        \n",
    "\n",
    "    return False\n",
    "\n",
    "movies_choosing(movie_lengths, flight_length)"
   ]
  },
  {
   "cell_type": "markdown",
   "id": "84f4742a",
   "metadata": {},
   "source": [
    "**Ex2:** Permutations of palindrome"
   ]
  },
  {
   "cell_type": "markdown",
   "id": "b06337a9",
   "metadata": {},
   "source": [
    "### Permutations + Palindrome solution:\n",
    "- we check only a character in a set. If its count is odd, we include it in a set."
   ]
  },
  {
   "cell_type": "code",
   "execution_count": 213,
   "id": "0e2f16de",
   "metadata": {},
   "outputs": [
    {
     "data": {
      "text/plain": [
       "False"
      ]
     },
     "execution_count": 213,
     "metadata": {},
     "output_type": "execute_result"
    }
   ],
   "source": [
    "def isPermutations_Palindrome(input_str):\n",
    "    odd_set = set()\n",
    "    \n",
    "    for char in input_str:\n",
    "        if char not in odd_set:\n",
    "            odd_set.add(char)\n",
    "        else:\n",
    "            odd_set.remove(char)\n",
    "\n",
    "    return len(odd_set) <= 1\n",
    "\n",
    "isPermutations_Palindrome(\"abcd\")\n",
    "\n",
    "# Cost complexity:\n",
    "# Time: O(n)\n",
    "# Space: O(n)"
   ]
  },
  {
   "cell_type": "markdown",
   "id": "0f562fbd",
   "metadata": {},
   "source": [
    "- Palindrome"
   ]
  },
  {
   "cell_type": "code",
   "execution_count": 207,
   "id": "0e47c7c5",
   "metadata": {},
   "outputs": [
    {
     "data": {
      "text/plain": [
       "True"
      ]
     },
     "execution_count": 207,
     "metadata": {},
     "output_type": "execute_result"
    }
   ],
   "source": [
    "# def isPalindrome(input_str):\n",
    "#     start_index = 0\n",
    "#     end_index   = len(input_str) -1\n",
    "    \n",
    "#     while start_index < end_index:\n",
    "#         if input_str[start_index].lower() != input_str[end_index].lower():\n",
    "#             return False\n",
    "#         start_index += 1\n",
    "#         end_index   -= 1\n",
    "    \n",
    "#     return True\n",
    "\n",
    "# isPalindrome(\"civvic\")\n",
    "\n",
    "# Cost complexity:\n",
    "# Time: O(n)\n",
    "# Space: O(1)"
   ]
  },
  {
   "cell_type": "code",
   "execution_count": null,
   "id": "19c5e5fc",
   "metadata": {},
   "outputs": [],
   "source": []
  },
  {
   "cell_type": "markdown",
   "id": "9b9d9557",
   "metadata": {},
   "source": [
    "**Ex3:** World Cloud Data"
   ]
  },
  {
   "cell_type": "code",
   "execution_count": 134,
   "id": "ae51938a",
   "metadata": {},
   "outputs": [],
   "source": [
    "def split_words(input_string):\n",
    "    words = []\n",
    "    current_word_start_index = 0\n",
    "    current_word_length = 0\n",
    "    for i, char in enumerate(input_string):\n",
    "        if char.isalpha():\n",
    "            if current_word_length == 0:\n",
    "                current_word_start_index = i\n",
    "            current_word_length += 1\n",
    "            #print(current_word_length)\n",
    "    else:\n",
    "        word = input_string[current_word_start_index:\n",
    "                            current_word_start_index + current_word_length]\n",
    "        print(word)\n",
    "        words.append(word)\n",
    "        current_word_length = 0\n",
    "    print(words)\n",
    "\n",
    "    return words"
   ]
  },
  {
   "cell_type": "code",
   "execution_count": 170,
   "id": "27659a06",
   "metadata": {},
   "outputs": [
    {
     "data": {
      "text/plain": [
       "{'Hello': 1,\n",
       " 'World': 2,\n",
       " '': 1,\n",
       " 'is': 1,\n",
       " 'the': 1,\n",
       " 'best': 1,\n",
       " 'place': 1,\n",
       " 'on': 1,\n",
       " 'this': 2,\n",
       " 'right': 1,\n",
       " 'now': 1}"
      ]
     },
     "execution_count": 170,
     "metadata": {},
     "output_type": "execute_result"
    }
   ],
   "source": [
    "## Step 1 split words \n",
    "## TODO: Improve this function\n",
    "\n",
    "def split_words_t(text):\n",
    "    words = []\n",
    "    start_char_index = 0 # reset when a word ends\n",
    "    last_char_index = 0\n",
    "    \n",
    "    for i, char in enumerate(text):\n",
    "        if char.isalpha():\n",
    "            if last_char_index == 0:\n",
    "                start_char_index = i\n",
    "            last_char_index += 1\n",
    "        else: # find non-alphabet like space\n",
    "            # print(True)\n",
    "            word = text[start_char_index: start_char_index + last_char_index]\n",
    "            words.append(word)\n",
    "            last_char_index = 0\n",
    "    \n",
    "    return words\n",
    "\n",
    "# Time comlpexity: O(n) (# of characters)\n",
    "# Space complexity: O(n) (# of words)\n",
    "text_0 = \"Hello World. This is the best place on this World right now!\"\n",
    "words = split_words_t(text_0)\n",
    "words\n",
    "\n",
    "## Step 2 Count distinct\n",
    "def count_distinct(words):\n",
    "    word_count_dict = {}\n",
    "    for word in words:\n",
    "        if word in word_count_dict:\n",
    "            word_count_dict[word] += 1\n",
    "            \n",
    "        ## Case1: if a word in the dict is lowercase, if the uppercase word presents, I will increase its lowercase count.\n",
    "        elif word.lower() in word_count_dict:\n",
    "            word_count_dict[word.lower()] += 1\n",
    "        ## Case2: if a word is currently uppercase, but a lowercase shows, I will change the uppercase into a lowercase \n",
    "        ## and increase the lowercase by 1.\n",
    "        elif word.capitalize() in word_count_dict:\n",
    "            word_count_dict[word.lower()] = 1\n",
    "            word_count_dict[word.lower()] += word_count_dict[word.capitalize()]\n",
    "            del word_count_dict[word.capitalize()]\n",
    "        else:\n",
    "            word_count_dict[word] = 1\n",
    "    \n",
    "    return word_count_dict\n",
    "\n",
    "freq_words = count_distinct(words)\n",
    "freq_words\n",
    "\n",
    "# Time comlpexity: O(n) (# of characters)\n",
    "# Space complexity: O(n) (# of words)"
   ]
  },
  {
   "cell_type": "code",
   "execution_count": 195,
   "id": "3434133d",
   "metadata": {},
   "outputs": [],
   "source": [
    "## Convert two functions to class to reduce variables\n",
    "class WordCloudData:\n",
    "        def __init__(self, input_string):\n",
    "            self.word_count_dict = {}\n",
    "            self.split_words(input_string)\n",
    "        \n",
    "        def split_words(self, input_string):\n",
    "            start_char_index = 0 # reset when a word ends\n",
    "            last_char_index  = 0\n",
    "\n",
    "            for i, char in enumerate(input_string):\n",
    "                if i == len(input_string) - 1:\n",
    "                    if char.isalpha():\n",
    "                        word = input_string[start_char_index: start_char_index + last_char_index + 1]\n",
    "                        self.count_distinct(word)\n",
    "                    \n",
    "                \n",
    "                if char.isalpha():\n",
    "                    if last_char_index == 0:\n",
    "                        start_char_index = i\n",
    "                    last_char_index += 1\n",
    "                else: # find non-alphabet like space\n",
    "                    # print(True)\n",
    "                    word = input_string[start_char_index: start_char_index + last_char_index]\n",
    "                    self.count_distinct(word)\n",
    "                    last_char_index = 0\n",
    "        \n",
    "        def count_distinct(self, word):\n",
    "            \n",
    "            if len(word) > 1:\n",
    "                if word in self.word_count_dict:\n",
    "                    self.word_count_dict[word] += 1\n",
    "                ## Case1: if a word in the dict is lowercase, if the uppercase word presents, I will increase its lowercase count.\n",
    "                elif word.lower() in self.word_count_dict:\n",
    "                    self.word_count_dict[word.lower()] += 1\n",
    "                ## Case2: if a word is currently uppercase, but a lowercase shows, I will change the uppercase into a lowercase \n",
    "                ## and increase the lowercase by 1.\n",
    "                elif word.capitalize() in self.word_count_dict:\n",
    "                    self.word_count_dict[word.lower()] = 1\n",
    "                    self.word_count_dict[word.lower()] += self.word_count_dict[word.capitalize()]\n",
    "                    del self.word_count_dict[word.capitalize()]\n",
    "                else:\n",
    "                    self.word_count_dict[word] = 1\n",
    "    \n",
    "            "
   ]
  },
  {
   "cell_type": "code",
   "execution_count": 203,
   "id": "d8b7c0b9",
   "metadata": {},
   "outputs": [
    {
     "data": {
      "text/plain": [
       "{'came': 1,\n",
       " 'we': 4,\n",
       " 'saw': 1,\n",
       " 'conquered': 1,\n",
       " 'then': 1,\n",
       " 'ate': 1,\n",
       " 'Bill': 1,\n",
       " 'Mille': 1,\n",
       " 'Feuille': 1,\n",
       " 'cake': 1}"
      ]
     },
     "execution_count": 203,
     "metadata": {},
     "output_type": "execute_result"
    }
   ],
   "source": [
    "text_0 = \"Hello World...This is the best place on this World right now!.###$\"\n",
    "text_1 = \"We came, we saw, we conquered...then we ate Bill's (Mille-Feuille) cake.\"\n",
    "WCD = WordCloudData(text_1)\n",
    "WCD.word_count_dict"
   ]
  },
  {
   "cell_type": "code",
   "execution_count": null,
   "id": "8c88b3b6",
   "metadata": {},
   "outputs": [],
   "source": []
  },
  {
   "cell_type": "markdown",
   "id": "a4702144",
   "metadata": {},
   "source": [
    "## 4.Greedy algorithm"
   ]
  },
  {
   "cell_type": "markdown",
   "id": "bbf8186e",
   "metadata": {},
   "source": [
    "### Ex1:\n",
    "Apple stock"
   ]
  },
  {
   "cell_type": "code",
   "execution_count": 246,
   "id": "c6c88d10",
   "metadata": {},
   "outputs": [],
   "source": [
    "Apple_stock_price = [5, 3, 10, 1]"
   ]
  },
  {
   "cell_type": "code",
   "execution_count": 247,
   "id": "d3bd79d0",
   "metadata": {},
   "outputs": [
    {
     "data": {
      "text/plain": [
       "7"
      ]
     },
     "execution_count": 247,
     "metadata": {},
     "output_type": "execute_result"
    }
   ],
   "source": [
    "# V1: Brute force\n",
    "# Time: O(n^2)\n",
    "# Space: O(1)\n",
    "\n",
    "def get_max_profit(stock_prices):\n",
    "    max_profit = 0\n",
    "    \n",
    "    for buy_index, buy_price in enumerate(stock_prices):\n",
    "        \n",
    "        for sell_index in range(buy_index + 1, len(stock_prices)):\n",
    "            \n",
    "            sell_price = stock_prices[sell_index]\n",
    "            \n",
    "            profit = sell_price - buy_price\n",
    "            \n",
    "            max_profit = max(max_profit, profit)\n",
    "    \n",
    "    return max_profit\n",
    "\n",
    "get_max_profit(Apple_stock_price)\n"
   ]
  },
  {
   "cell_type": "code",
   "execution_count": 248,
   "id": "74468d40",
   "metadata": {},
   "outputs": [
    {
     "name": "stdout",
     "output_type": "stream",
     "text": [
      "-2\n",
      "7\n",
      "-2\n"
     ]
    },
    {
     "data": {
      "text/plain": [
       "7"
      ]
     },
     "execution_count": 248,
     "metadata": {},
     "output_type": "execute_result"
    }
   ],
   "source": [
    "## V2: Greedy\n",
    "# Time: O(n)\n",
    "# Space: O(1)\n",
    "\n",
    "def get_max_profit_greedy_v1(stock_prices):\n",
    "    \n",
    "    min_price  = stock_prices[0]\n",
    "    max_profit = 0\n",
    "    \n",
    "    for price in stock_prices:\n",
    "        min_price = min(min_price, price)\n",
    "        \n",
    "        current_profit = price - min_price\n",
    "        \n",
    "        max_profit = max(max_profit, current_profit)\n",
    "    \n",
    "    return max_profit\n",
    "\n",
    "# A Flaw for this function\n",
    "# If the values of the stock stay the same or keep decreasing, it will end up buy and sell at the same time!\n",
    "\n",
    "def get_max_profit_greedy(stock_prices):\n",
    "    if len(stock_prices) < 2:\n",
    "        raise ValueError(\"Getting a profit requires more than 2 prices\")\n",
    "    \n",
    "    min_price  = stock_prices[0]\n",
    "    max_profit = stock_prices[1] - stock_prices[0]\n",
    "    \n",
    "    for i in range(1, len(stock_prices)):\n",
    "        \n",
    "        current_price = stock_prices[i]\n",
    "        \n",
    "        current_profit = current_price - min_price\n",
    "        print(current_profit)\n",
    "        \n",
    "        max_profit = max(max_profit, current_profit)\n",
    "        \n",
    "        min_price  = min(min_price, current_price)\n",
    "    \n",
    "    return max_profit\n",
    "\n",
    "\n",
    "get_max_profit_greedy(Apple_stock_price)"
   ]
  },
  {
   "cell_type": "markdown",
   "id": "ffb1adda",
   "metadata": {},
   "source": [
    "## EX2: Highest Product\n",
    "From at least 3 integers"
   ]
  },
  {
   "cell_type": "code",
   "execution_count": 271,
   "id": "0bc57301",
   "metadata": {},
   "outputs": [
    {
     "name": "stdout",
     "output_type": "stream",
     "text": [
      "Loop 2\n",
      "Max num 10\n",
      "Min num -5\n",
      "Max value 10\n",
      "Min value -50\n",
      "*******\n",
      "Loop 3\n",
      "Max num 10\n",
      "Min num -5\n",
      "Max value 10\n",
      "Min value -50\n",
      "*******\n",
      "Loop 4\n",
      "Max num 10\n",
      "Min num -100\n",
      "Max value 500\n",
      "Min value -1000\n",
      "*******\n",
      "Loop 5\n",
      "Max num 10\n",
      "Min num -100\n",
      "Max value 500\n",
      "Min value -1000\n",
      "*******\n"
     ]
    },
    {
     "data": {
      "text/plain": [
       "5000"
      ]
     },
     "execution_count": 271,
     "metadata": {},
     "output_type": "execute_result"
    }
   ],
   "source": [
    "def highest_prod_3(nums_list):\n",
    "    \n",
    "    if len(nums_list) < 3:\n",
    "        raise ValueError(\"Cannot compute when inputs are less than 3\")\n",
    "        \n",
    "    max_num = max(nums_list[0], nums_list[1])\n",
    "    min_num = min(nums_list[0], nums_list[1])\n",
    "    \n",
    "    max_mul_2 = nums_list[0] * nums_list[1]\n",
    "    min_mul_2 = nums_list[0] * nums_list[1]\n",
    "    \n",
    "    max_mul_3 = nums_list[0] * nums_list[1] * nums_list[2]\n",
    "    \n",
    "    for i in range(2, len(nums_list)):\n",
    "        current_num = nums_list[i]\n",
    "        \n",
    "        max_mul_3 = max(max_mul_3, max_mul_2 * current_num, min_mul_2 * current_num)\n",
    "        \n",
    "        max_mul_2 = max(max_mul_2, max_num * current_num, min_num * current_num)\n",
    "        min_mul_2 = min(min_mul_2, min_num * current_num, max_num * current_num)\n",
    "        \n",
    "        max_num = max(max_num, current_num)\n",
    "        min_num = min(min_num, current_num)\n",
    "        \n",
    "        print('Loop', i)\n",
    "        print('Max num', max_num)\n",
    "        print('Min num', min_num)\n",
    "        print('Max value', max_mul_2)\n",
    "        print('Min value', min_mul_2)\n",
    "        print('*******')\n",
    "    \n",
    "    return max_mul_3\n",
    "\n",
    "\n",
    "nums_list = [-10, -10, 1, 3, 2]\n",
    "nums_list2 = [1, 10, -5, 1, -100, 1]\n",
    "\n",
    "highest_prod_3(nums_list2)"
   ]
  },
  {
   "cell_type": "code",
   "execution_count": null,
   "id": "206cdb60",
   "metadata": {},
   "outputs": [],
   "source": []
  },
  {
   "cell_type": "markdown",
   "id": "8e67a497",
   "metadata": {},
   "source": [
    "## Ex3: Product of all other numbers\n",
    "You have a list of integers, and for each index you want to find the product of every integer except the integer at that index.\\\n",
    "EX: [1, 7, 3, 4] --> Return [84, 12, 28, 21]"
   ]
  },
  {
   "cell_type": "code",
   "execution_count": 282,
   "id": "d7ef7888",
   "metadata": {},
   "outputs": [
    {
     "data": {
      "text/plain": [
       "[84, 12, 28, 21]"
      ]
     },
     "execution_count": 282,
     "metadata": {},
     "output_type": "execute_result"
    }
   ],
   "source": [
    "def prod_all_other_num(lst):\n",
    "    \n",
    "    # Reverse sequence\n",
    "    #for i in range(len(lst)-1, -1, -1):\n",
    "        #print(i)\n",
    "    \n",
    "    before_num_multiply  = 1\n",
    "    after_num_multiply   = 1\n",
    "    all_other_num_multiply = 1\n",
    "    \n",
    "    products_of_all_ints_before_index = [None] * len(lst)\n",
    "    products_of_all_ints_after_index = [None] * len(lst)\n",
    "    \n",
    "    for i in range(len(lst)):\n",
    "        forward_index = i\n",
    "        reverse_index = len(lst) -1 - i # Reverse index\n",
    "        \n",
    "        before_num_multiply *= lst[forward_index]\n",
    "        after_num_multiply  *= lst[reverse_index]\n",
    "        \n",
    "        products_of_all_ints_before_index[forward_index] = before_num_multiply\n",
    "        products_of_all_ints_after_index[reverse_index]  = after_num_multiply\n",
    "    \n",
    "    print(products_of_all_ints_before_index)\n",
    "    print(products_of_all_ints_after_index)\n",
    "    \n",
    "def prod_all_other_num_v2(lst):\n",
    "    \n",
    "    if len(lst) < 2:\n",
    "        raise ValueError(\"Please provide more than 2 elements in the input\")\n",
    "    \n",
    "    before_num_multiply  = 1\n",
    "    after_num_multiply   = 1\n",
    "    all_other_num_multiply = 1\n",
    "    \n",
    "    products_of_all_ints_index = [None] * len(lst)\n",
    "    \n",
    "    for i in range(len(lst)):\n",
    "        products_of_all_ints_index[i] = before_num_multiply\n",
    "        before_num_multiply *= lst[i]\n",
    "        \n",
    "    for i in range(len(lst)-1, -1, -1):\n",
    "        products_of_all_ints_index[i] *= after_num_multiply\n",
    "        after_num_multiply *= lst[i]\n",
    "    \n",
    "    return products_of_all_ints_index\n",
    "\n",
    "lst = [1, 7, 3, 4]\n",
    "prod_all_other_num_v2(lst)"
   ]
  },
  {
   "cell_type": "markdown",
   "id": "28a90c2a",
   "metadata": {},
   "source": [
    "## Ex:4 "
   ]
  },
  {
   "cell_type": "markdown",
   "id": "5a64c179",
   "metadata": {},
   "source": [
    "## Ex:5"
   ]
  },
  {
   "cell_type": "code",
   "execution_count": null,
   "id": "c6359aef",
   "metadata": {},
   "outputs": [],
   "source": []
  },
  {
   "cell_type": "code",
   "execution_count": null,
   "id": "2ff56949",
   "metadata": {},
   "outputs": [],
   "source": []
  },
  {
   "cell_type": "markdown",
   "id": "b60be93e",
   "metadata": {},
   "source": [
    "## 5. Binary Search"
   ]
  },
  {
   "cell_type": "code",
   "execution_count": null,
   "id": "bf359249",
   "metadata": {},
   "outputs": [],
   "source": [
    "def binary_search(target, nums):\n",
    "    # Initialized floor and ceiling index \n",
    "    # These two variables act like \"walls\" around the possible solutions.\n",
    "    floor_index = -1\n",
    "    ceiling_index = len(nums)\n",
    "    \n",
    "    while floor_index + 1 < ceiling_index: # Require at least one number between walls\n",
    "        half_distance = (ceiling_index - floor_index) // 2 # // is floor\n",
    "        \n",
    "        midpoint_value = nums[half_distance]\n",
    "        \n",
    "        if midpoint_value == target:\n",
    "            return True\n",
    "        elif midpoint_value < target:\n",
    "            floor_index = half_distance\n",
    "        else:\n",
    "            ceiling_index = half_distance\n",
    "    \n",
    "    return False\n",
    "\n",
    "# Note: The input needs to be sorted to perform O(logn) time\n",
    "\n",
    "\n"
   ]
  },
  {
   "cell_type": "markdown",
   "id": "10906cba",
   "metadata": {},
   "source": [
    "## EX1: Find rotation point"
   ]
  },
  {
   "cell_type": "code",
   "execution_count": 290,
   "id": "7fbd02bf",
   "metadata": {},
   "outputs": [],
   "source": [
    "words = [\n",
    "'ptolemaic',\n",
    "'retrograde',\n",
    "'supplant',\n",
    "'undulate',\n",
    "'xenoepist',\n",
    "'asymptote', # <-- rotates here!\n",
    "'babka',\n",
    "'banoffee',\n",
    "'engender',\n",
    "'karpatka',\n",
    "'othellolagkage',\n",
    "]"
   ]
  },
  {
   "cell_type": "code",
   "execution_count": 293,
   "id": "17f7ae52",
   "metadata": {},
   "outputs": [],
   "source": [
    "def find_rotation_point(words):\n",
    "    first_word = words[0]\n",
    "    floor_index = 0\n",
    "    ceiling_index = len(words) - 1\n",
    "\n",
    "    while floor_index < ceiling_index:\n",
    "        # Guess a point halfway between floor and ceiling\n",
    "        guess_index = floor_index + ((ceiling_index - floor_index) // 2)\n",
    "\n",
    "        # If guess comes after first word or is the first word\n",
    "        if words[guess_index] >= first_word:\n",
    "            # Go right\n",
    "            floor_index = guess_index\n",
    "        else:\n",
    "            # Go left\n",
    "            ceiling_index = guess_index\n",
    "\n",
    "        # If floor and ceiling have converged\n",
    "        if floor_index + 1 == ceiling_index:\n",
    "            # Between floor and ceiling is where we flipped to the beginning\n",
    "            # so ceiling is alphabetically first\n",
    "            return ceiling_index"
   ]
  },
  {
   "cell_type": "code",
   "execution_count": null,
   "id": "df7de800",
   "metadata": {},
   "outputs": [],
   "source": []
  },
  {
   "cell_type": "markdown",
   "id": "1b08ea95",
   "metadata": {},
   "source": [
    "## EX2: Find repeat"
   ]
  },
  {
   "cell_type": "code",
   "execution_count": 301,
   "id": "db7690bf",
   "metadata": {},
   "outputs": [
    {
     "name": "stdout",
     "output_type": "stream",
     "text": [
      "8\n",
      "7\n"
     ]
    }
   ],
   "source": [
    "lst1 = [1, 3, 4, 5, 6, 7, 7, 10]\n",
    "print(len(lst1))\n",
    "print(len(set(lst1)))\n"
   ]
  },
  {
   "cell_type": "code",
   "execution_count": 303,
   "id": "3df59620",
   "metadata": {},
   "outputs": [
    {
     "name": "stdout",
     "output_type": "stream",
     "text": [
      "1 4\n",
      "1\n",
      "3\n",
      "4\n",
      "5\n",
      "6\n",
      "7\n",
      "7\n",
      "10\n",
      "5 6\n",
      "1\n",
      "3\n",
      "4\n",
      "5\n",
      "6\n",
      "7\n",
      "7\n",
      "10\n"
     ]
    },
    {
     "data": {
      "text/plain": [
       "7"
      ]
     },
     "execution_count": 303,
     "metadata": {},
     "output_type": "execute_result"
    }
   ],
   "source": [
    "def find_repeat(numbers):\n",
    "    floor = 1\n",
    "    ceiling = len(numbers) - 1\n",
    "\n",
    "    while floor < ceiling:\n",
    "        # Divide our range 1..n into an upper range and lower range\n",
    "        # (such that they don't overlap)\n",
    "        # Lower range is floor..midpoint\n",
    "        # Upper range is midpoint+1..ceiling\n",
    "        midpoint = floor + ((ceiling - floor) // 2)\n",
    "        lower_range_floor, lower_range_ceiling = floor, midpoint\n",
    "        upper_range_floor, upper_range_ceiling = midpoint+1, ceiling\n",
    "        \n",
    "        print(lower_range_floor, lower_range_ceiling)\n",
    "\n",
    "        # Count number of items in lower range\n",
    "        items_in_lower_range = 0\n",
    "        for item in numbers:\n",
    "            print(item)\n",
    "            # Is it in the lower range?\n",
    "            if item >= lower_range_floor and item <= lower_range_ceiling:\n",
    "                items_in_lower_range += 1\n",
    "                distinct_possible_integers_in_lower_range = (\n",
    "                    lower_range_ceiling\n",
    "                    - lower_range_floor\n",
    "                    + 1\n",
    "                )\n",
    "            if items_in_lower_range > distinct_possible_integers_in_lower_range:\n",
    "                # There must be a duplicate in the lower range\n",
    "                # so use the same approach iteratively on that range\n",
    "                floor, ceiling = lower_range_floor, lower_range_ceiling\n",
    "            else:\n",
    "                # There must be a duplicate in the upper range\n",
    "                # so use the same approach iteratively on that range\n",
    "                floor, ceiling = upper_range_floor, upper_range_ceiling\n",
    "\n",
    "    # Floor and ceiling have converged\n",
    "    # We found a number that repeats!\n",
    "    return floor\n",
    "\n",
    "find_repeat(lst1)"
   ]
  },
  {
   "cell_type": "code",
   "execution_count": null,
   "id": "8586c672",
   "metadata": {},
   "outputs": [],
   "source": []
  },
  {
   "cell_type": "markdown",
   "id": "6dc93382",
   "metadata": {},
   "source": [
    "## EX3: Top scores"
   ]
  },
  {
   "cell_type": "code",
   "execution_count": null,
   "id": "50641f06",
   "metadata": {},
   "outputs": [],
   "source": []
  },
  {
   "cell_type": "markdown",
   "id": "d386a9bb",
   "metadata": {},
   "source": [
    "# 6. Tree and Graph"
   ]
  },
  {
   "cell_type": "markdown",
   "id": "e82d3ba8",
   "metadata": {},
   "source": [
    "## Binary Tree"
   ]
  },
  {
   "cell_type": "markdown",
   "id": "1b96ac16",
   "metadata": {},
   "source": [
    "The number of trees are 2^h - 1."
   ]
  },
  {
   "cell_type": "markdown",
   "id": "18cc81d1",
   "metadata": {},
   "source": [
    "## Graph"
   ]
  },
  {
   "cell_type": "code",
   "execution_count": 305,
   "id": "baeee736",
   "metadata": {},
   "outputs": [],
   "source": [
    "## BFS (Breadth-frist-search): The nodes you explore \"ripple out\" from the starting point.\n",
    "# Advantages:\n",
    "# - Always finds the shortest path, assuming that a graph is undirected and unweighted.\n",
    "# Disadventages:\n",
    "# - A BFS on a binary tree generally requires more memory than a DFS.\n",
    "# https://www.interviewcake.com/concept/python/bfs\n",
    "\n",
    "## DFS (Depth-first search) --> Going deep, hit dead end, go back, and try a new one.\n",
    "# Advantages:\n",
    "# - require less memory than BFS\n",
    "# - Can easily implmented using recursion\n",
    "# Disadventages:\n",
    "# - A DFS doesn't necessarily find the shortest path to a node, while Breadth-first search does."
   ]
  },
  {
   "cell_type": "markdown",
   "id": "34f66cdf",
   "metadata": {},
   "source": [
    "## DepthFirstSearch implementation"
   ]
  },
  {
   "cell_type": "code",
   "execution_count": null,
   "id": "1b93fe84",
   "metadata": {},
   "outputs": [],
   "source": [
    "# Iterative approach\n",
    "def DepthFirstSearch(tree):\n",
    "    stack = [] # Use push and pop to represent stack\n",
    "    \n",
    "    while len(stack) > 0:\n",
    "        "
   ]
  },
  {
   "cell_type": "code",
   "execution_count": 307,
   "id": "7c0f09d5",
   "metadata": {},
   "outputs": [
    {
     "data": {
      "text/plain": [
       "[1, 2]"
      ]
     },
     "execution_count": 307,
     "metadata": {},
     "output_type": "execute_result"
    }
   ],
   "source": [
    "a = [1, 2, 3]\n",
    "a.pop()\n",
    "a"
   ]
  },
  {
   "cell_type": "markdown",
   "id": "3b74cfc8",
   "metadata": {},
   "source": [
    "## Ex1: Balanced Binary Tree\n",
    "Write a function to see if a binary tree is \"superbalanced\"\\\n",
    "A tree is \"superbalanced\" if the difference between the depths of any two leaf nodes\n",
    "is no greater than one."
   ]
  },
  {
   "cell_type": "code",
   "execution_count": 361,
   "id": "1e6e1f34",
   "metadata": {},
   "outputs": [
    {
     "name": "stdout",
     "output_type": "stream",
     "text": [
      "Root:  a\n",
      "Root:  b\n",
      "Root:  d\n",
      "No value in the tree\n",
      "Left:  []\n",
      "No value in the tree\n",
      "Right:  []\n",
      "End 1 loop\n",
      "Left:  ('d', [], [])\n",
      "Root:  e\n",
      "No value in the tree\n",
      "Left:  []\n",
      "No value in the tree\n",
      "Right:  []\n",
      "End 1 loop\n",
      "Right:  ('e', [], [])\n",
      "End 1 loop\n",
      "Left:  ('b', ('d', [], []), ('e', [], []))\n",
      "Root:  c\n",
      "Root:  f\n",
      "No value in the tree\n",
      "Left:  []\n",
      "No value in the tree\n",
      "Right:  []\n",
      "End 1 loop\n",
      "Left:  ('f', [], [])\n",
      "No value in the tree\n",
      "Right:  []\n",
      "End 1 loop\n",
      "Right:  ('c', ('f', [], []), [])\n",
      "End 1 loop\n"
     ]
    },
    {
     "data": {
      "text/plain": [
       "('a', ('b', ('d', [], []), ('e', [], [])), ('c', ('f', [], []), []))"
      ]
     },
     "execution_count": 361,
     "metadata": {},
     "output_type": "execute_result"
    }
   ],
   "source": [
    "class BinaryTreeNode(object):\n",
    "    def __init__(self, value):\n",
    "        self.value = value\n",
    "        self.left  = None\n",
    "        self.right = None\n",
    "        \n",
    "    def insert_left(self, value):\n",
    "        self.left = BinaryTreeNode(value)\n",
    "        \n",
    "    def insert_right(self, value):\n",
    "        self.right = BinaryTreeNode(value)\n",
    "        \n",
    "    def printTree(self):\n",
    "        print(self.value)\n",
    "        if self.left:\n",
    "            self.left.printTree()\n",
    "        if self.right:\n",
    "            self.right.printTree()\n",
    "\n",
    "## Iterative approach\n",
    "def depthFirstSearch(root):\n",
    "    if root is None:\n",
    "        print('No value in the tree')\n",
    "        return []\n",
    "    stack = [root]\n",
    "    result = []\n",
    "    while len(stack) > 0:\n",
    "        current = stack.pop()\n",
    "        print('Current node: ', current.value)\n",
    "        result.append(current.value)\n",
    "        \n",
    "        if current.right:\n",
    "            stack.append(current.right)\n",
    "            print('Right:', current.right.value)\n",
    "        if current.left:\n",
    "            stack.append(current.left)\n",
    "            print('Left: ', current.left.value)\n",
    "    \n",
    "        print('End of loop')\n",
    "        print()\n",
    "        \n",
    "    return result\n",
    "        #print(len(stack))\n",
    "        \n",
    "## Recursive approach \n",
    "def depthFirstSearch_rec(root):\n",
    "    if root is None:\n",
    "        print('No value in the tree')\n",
    "        return []\n",
    "    \n",
    "    print(\"Root: \", root.value)\n",
    "    leftValue  = depthFirstSearch_rec(root.left)\n",
    "    print(\"Left: \", leftValue)\n",
    "    rightValue = depthFirstSearch_rec(root.right)\n",
    "    print(\"Right: \", rightValue)\n",
    "    print(\"End 1 loop\")\n",
    "    \n",
    "    return root.value, leftValue, rightValue\n",
    "        \n",
    "a = BinaryTreeNode('a')\n",
    "b = BinaryTreeNode('b')\n",
    "c = BinaryTreeNode('c')\n",
    "d = BinaryTreeNode('d')\n",
    "e = BinaryTreeNode('e')\n",
    "f = BinaryTreeNode('f')\n",
    "\n",
    "a.left  = b\n",
    "a.right = c\n",
    "b.left  = d\n",
    "b.right = e\n",
    "c.left  = f\n",
    "\n",
    "#      a\n",
    "#     / \\\n",
    "#    b   c\n",
    "#   /\\   /\n",
    "#  d  e  f\n",
    "\n",
    "# a.printTree()\n",
    "\n",
    "#depthFirstSearch(None)\n",
    "\n",
    "depthFirstSearch_rec(a)"
   ]
  },
  {
   "cell_type": "code",
   "execution_count": null,
   "id": "ee4b077b",
   "metadata": {},
   "outputs": [],
   "source": [
    "# FIFO: Queing data structure\n",
    "def BreadthFirstSearch(root):\n",
    "    \n",
    "    if root is None:\n",
    "        return []\n",
    "    \n",
    "    queue = [root]\n",
    "    values = []\n",
    "    \n",
    "    while len(queue) > 0:\n",
    "        current = queue.pop()\n",
    "        values.append(current.value)\n",
    "        \n",
    "        if current.left:\n",
    "            queue.insert(0, current.left)\n",
    "        if current.right:\n",
    "            queue.insert(0, current.right)\n",
    "    \n",
    "    return values \n",
    "\n",
    "a = BinaryTreeNode('a')\n",
    "b = BinaryTreeNode('b')\n",
    "c = BinaryTreeNode('c')\n",
    "d = BinaryTreeNode('d')\n",
    "e = BinaryTreeNode('e')\n",
    "f = BinaryTreeNode('f')\n",
    "\n",
    "a.left  = b\n",
    "a.right = c\n",
    "b.left  = d\n",
    "b.right = e\n",
    "c.left  = f\n",
    "        \n",
    "#      a\n",
    "#     / \\\n",
    "#    b   c\n",
    "#   /\\   /\n",
    "#  d  e  f\n",
    "    \n",
    "BreadthFirstSearch(a)"
   ]
  },
  {
   "cell_type": "code",
   "execution_count": null,
   "id": "647942bf",
   "metadata": {},
   "outputs": [],
   "source": []
  },
  {
   "cell_type": "markdown",
   "id": "d7ceb18b",
   "metadata": {},
   "source": [
    "## Tree includes"
   ]
  },
  {
   "cell_type": "code",
   "execution_count": 380,
   "id": "1ec76d79",
   "metadata": {},
   "outputs": [
    {
     "name": "stdout",
     "output_type": "stream",
     "text": [
      "a\n",
      "b\n",
      "d\n",
      "False\n",
      "e\n",
      "False\n",
      "None\n",
      "c\n",
      "f\n",
      "False\n",
      "False\n",
      "None\n"
     ]
    }
   ],
   "source": [
    "# Search using BFS --> Queue\n",
    "def treeIncludes(root, target):\n",
    "    \n",
    "    if root is None:\n",
    "        return []\n",
    "    \n",
    "    queue = [root]\n",
    "    \n",
    "    while len(queue) > 0:\n",
    "        current = queue.pop()\n",
    "        \n",
    "        if current.value == target:\n",
    "            return True\n",
    "        \n",
    "        if current.left:\n",
    "            queue.insert(0, current.left)\n",
    "        if current.right:\n",
    "            queue.insert(0, current.right)\n",
    "        \n",
    "    return False\n",
    "\n",
    "# Search using DFS --> Stack\n",
    "def treeIncludes_rec(root, target):\n",
    "    \n",
    "    if root is None:\n",
    "        return False\n",
    "    \n",
    "    print(root.value)\n",
    "    \n",
    "    if root.value == target:\n",
    "        return True\n",
    "    \n",
    "    return treeIncludes_rec(root.left, target) or treeIncludes_rec(root.right, target)\n",
    "\n",
    "#treeIncludes(a, 'F')\n",
    "treeIncludes_rec(a, 'g')"
   ]
  },
  {
   "cell_type": "code",
   "execution_count": null,
   "id": "f41ca24f",
   "metadata": {},
   "outputs": [],
   "source": []
  },
  {
   "cell_type": "markdown",
   "id": "c4cde011",
   "metadata": {},
   "source": [
    "## Tree sum"
   ]
  },
  {
   "cell_type": "code",
   "execution_count": 390,
   "id": "4915e95b",
   "metadata": {},
   "outputs": [],
   "source": [
    "ts1 = BinaryTreeNode(0)\n",
    "ts2 = BinaryTreeNode(11)\n",
    "ts3 = BinaryTreeNode(4)\n",
    "ts4 = BinaryTreeNode(4)\n",
    "ts5 = BinaryTreeNode(2)\n",
    "ts6 = BinaryTreeNode(-1)\n",
    "\n",
    "ts1.left  = ts2\n",
    "ts1.right = ts3\n",
    "ts2.left  = ts4\n",
    "ts2.right = ts5\n",
    "ts3.left  = ts6\n",
    "        \n",
    "#      3\n",
    "#     / \\\n",
    "#    11  4\n",
    "#   /\\   /\n",
    "#  4  2  1\n",
    "    "
   ]
  },
  {
   "cell_type": "code",
   "execution_count": 392,
   "id": "4e349acc",
   "metadata": {},
   "outputs": [
    {
     "name": "stdout",
     "output_type": "stream",
     "text": [
      "20\n"
     ]
    },
    {
     "data": {
      "text/plain": [
       "20"
      ]
     },
     "execution_count": 392,
     "metadata": {},
     "output_type": "execute_result"
    }
   ],
   "source": [
    "# Search using BFS --> Queue\n",
    "def treeSum(root):\n",
    "    \n",
    "    if root is None:\n",
    "        return []\n",
    "    \n",
    "    total_sum = 0\n",
    "    queue = [root]\n",
    "    \n",
    "    while len(queue) > 0:\n",
    "        current = queue.pop()\n",
    "        \n",
    "        total_sum += current.value\n",
    "        \n",
    "        if current.left:\n",
    "            queue.insert(0, current.left)\n",
    "        if current.right:\n",
    "            queue.insert(0, current.right)\n",
    "        \n",
    "    return total_sum\n",
    "\n",
    "\n",
    "# Search using DFS --> Stack\n",
    "def treeSum_rec(root):\n",
    "    \n",
    "    if root is None:\n",
    "        return 0\n",
    "    \n",
    "    return root.value + treeSum_rec(root.left) + treeSum_rec(root.right)\n",
    "\n",
    "print(treeSum(ts1))\n",
    "treeSum_rec(ts1)\n",
    "\n",
    "## Time complexity: O(n)\n",
    "## Space complexity: O(1)"
   ]
  },
  {
   "cell_type": "code",
   "execution_count": null,
   "id": "90bfeed1",
   "metadata": {},
   "outputs": [],
   "source": []
  },
  {
   "cell_type": "markdown",
   "id": "21964be7",
   "metadata": {},
   "source": [
    "## Ex1: Balanced binary tree "
   ]
  },
  {
   "cell_type": "code",
   "execution_count": 412,
   "id": "0f6deb88",
   "metadata": {},
   "outputs": [],
   "source": [
    "a = BinaryTreeNode('a')\n",
    "b = BinaryTreeNode('b')\n",
    "c = BinaryTreeNode('c')\n",
    "d = BinaryTreeNode('d')\n",
    "e = BinaryTreeNode('e')\n",
    "f = BinaryTreeNode('f')\n",
    "g = BinaryTreeNode('g')\n",
    "h = BinaryTreeNode('h')\n",
    "\n",
    "a.left  = b\n",
    "a.right = c\n",
    "b.left  = d\n",
    "b.right = e\n",
    "c.left  = f\n",
    "f.left  = g\n",
    "#g.right = h\n",
    "\n",
    "#      a\n",
    "#     / \\\n",
    "#    b   c\n",
    "#   /\\   /\n",
    "#  d  e  f\n",
    "\n"
   ]
  },
  {
   "cell_type": "code",
   "execution_count": 414,
   "id": "8d555b54",
   "metadata": {},
   "outputs": [
    {
     "name": "stdout",
     "output_type": "stream",
     "text": [
      "d 2\n",
      "e 2\n",
      "g 3\n"
     ]
    },
    {
     "data": {
      "text/plain": [
       "True"
      ]
     },
     "execution_count": 414,
     "metadata": {},
     "output_type": "execute_result"
    }
   ],
   "source": [
    "## Solve by DFS because it will reach the end quicker than BFS.\n",
    "def is_balanced(root):\n",
    "    \n",
    "    if root is None:\n",
    "        return True\n",
    "\n",
    "    depths = []\n",
    "    stack = []\n",
    "    stack.append((root, 0))\n",
    "    \n",
    "    while len(stack) > 0:\n",
    "        \n",
    "        current_node, depth = stack.pop()\n",
    "        #print(current_node.value, depth)\n",
    "        \n",
    "        if (not current_node.right) and (not current_node.left):\n",
    "            print(current_node.value, depth)\n",
    "            \n",
    "            if depth not in depths:\n",
    "                depths.append(depth)\n",
    "            \n",
    "            if len(depths) >= 2 and max(depths) - min(depths) > 1:\n",
    "                return False\n",
    "        \n",
    "        else:\n",
    "            if current_node.right:\n",
    "                stack.append((current_node.right, depth+1))\n",
    "            if current_node.left:\n",
    "                stack.append((current_node.left, depth+1))\n",
    "    \n",
    "    return True\n",
    "            \n",
    "is_balanced(a)\n",
    "\n",
    "## Time complexity: O(n): Iterate over all n nodes\n",
    "## Space complexity: O(n) : Or we could say it is O(d) if we have one long root node."
   ]
  },
  {
   "cell_type": "code",
   "execution_count": 401,
   "id": "9791abd1",
   "metadata": {},
   "outputs": [
    {
     "data": {
      "text/plain": [
       "True"
      ]
     },
     "execution_count": 401,
     "metadata": {},
     "output_type": "execute_result"
    }
   ],
   "source": [
    "def is_balanced(tree_root):\n",
    "\n",
    "    # A tree with no nodes is superbalanced, since there are no leaves!\n",
    "    if tree_root is None:\n",
    "        return True\n",
    "\n",
    "    # We short-circuit as soon as we find more than 2\n",
    "    depths = []\n",
    "    # We'll treat this list as a stack that will store tuples of (node, depth)\n",
    "    nodes = []\n",
    "    nodes.append((tree_root, 0))\n",
    "    while len(nodes):\n",
    "        # Pop a node and its depth from the top of our stack\n",
    "        node, depth = nodes.pop()\n",
    "\n",
    "        # Case: we found a leaf\n",
    "        if (not node.left) and (not node.right):\n",
    "            # We only care if it's a new depth\n",
    "            if depth not in depths:\n",
    "                depths.append(depth)\n",
    "\n",
    "                # Two ways we might now have an unbalanced tree:\n",
    "                # 1) more than 2 different leaf depths\n",
    "                # 2) 2 leaf depths that are more than 1 apart\n",
    "                if ((len(depths) > 2) or\n",
    "                   (len(depths) == 2 and abs(depths[0] - depths[1]) > 1)):\n",
    "                    return False\n",
    "        else:\n",
    "            # Case: this isn't a leaf - keep stepping down\n",
    "            if node.left:\n",
    "                nodes.append((node.left, depth + 1))\n",
    "            if node.right:\n",
    "                nodes.append((node.right, depth + 1))\n",
    "\n",
    "    return True\n",
    "\n",
    "\n",
    "is_balanced(a)"
   ]
  },
  {
   "cell_type": "code",
   "execution_count": null,
   "id": "67500fb1",
   "metadata": {},
   "outputs": [],
   "source": []
  },
  {
   "cell_type": "markdown",
   "id": "2dd97e25",
   "metadata": {},
   "source": [
    "## Ex2: Binary Tree Seach"
   ]
  },
  {
   "cell_type": "code",
   "execution_count": 415,
   "id": "f49ba41e",
   "metadata": {},
   "outputs": [],
   "source": [
    "# I will use DFS to \n",
    "def is_binary_tree(root):\n",
    "    \n",
    "    # We will keep tracking lower bound and upper bound as well\n",
    "    node_bound_stack = [(root, -float('inf'), float('inf'))]\n",
    "    \n",
    "    while node_bound_stack > 0:\n",
    "        node, lower_bound, upper_bound = node_bound_stack.pop()\n",
    "        \n",
    "        if (node.value <= lower_bound) or (node.value >= upper_bound):\n",
    "            return False\n",
    "        \n",
    "        if node.right:\n",
    "            node_bound_stack.append(node.right, node.value, upper_bound)\n",
    "        \n",
    "        if node.left:\n",
    "            node_bound_stack.append(node.left, lower_bound, node.value)\n",
    "    \n",
    "    return True\n",
    "        \n",
    "        \n",
    "    "
   ]
  },
  {
   "cell_type": "code",
   "execution_count": null,
   "id": "7183e916",
   "metadata": {},
   "outputs": [],
   "source": []
  },
  {
   "cell_type": "markdown",
   "id": "fbe8e0b1",
   "metadata": {},
   "source": [
    "## Dymanic Programming"
   ]
  },
  {
   "cell_type": "code",
   "execution_count": 424,
   "id": "4d5fd7f6",
   "metadata": {},
   "outputs": [
    {
     "data": {
      "text/plain": [
       "354224848179261915075"
      ]
     },
     "execution_count": 424,
     "metadata": {},
     "output_type": "execute_result"
    }
   ],
   "source": [
    "## Memoization\n",
    "def fib(n, memo={}):\n",
    "    if n in memo:\n",
    "        return memo[n]\n",
    "    \n",
    "    if n <= 2:\n",
    "        return 1\n",
    "    memo[n] = fib(n-1) + fib(n-2)\n",
    "    \n",
    "    return memo[n]\n",
    "\n",
    "fib(100)\n",
    "\n",
    "## Time complexity: O(n) from O(2^n)\n",
    "## Space complexity: O(n)"
   ]
  },
  {
   "cell_type": "code",
   "execution_count": 423,
   "id": "41cd284d",
   "metadata": {},
   "outputs": [
    {
     "data": {
      "text/plain": [
       "0"
      ]
     },
     "execution_count": 423,
     "metadata": {},
     "output_type": "execute_result"
    }
   ],
   "source": [
    "len(memo)"
   ]
  },
  {
   "cell_type": "markdown",
   "id": "d39b564c",
   "metadata": {},
   "source": [
    "## Grid walking"
   ]
  },
  {
   "cell_type": "code",
   "execution_count": 437,
   "id": "cdd67d72",
   "metadata": {},
   "outputs": [
    {
     "ename": "KeyboardInterrupt",
     "evalue": "",
     "output_type": "error",
     "traceback": [
      "\u001b[0;31m---------------------------------------------------------------------------\u001b[0m",
      "\u001b[0;31mKeyboardInterrupt\u001b[0m                         Traceback (most recent call last)",
      "\u001b[0;32m<ipython-input-437-bf47e10393ed>\u001b[0m in \u001b[0;36m<module>\u001b[0;34m\u001b[0m\n\u001b[1;32m     10\u001b[0m     \u001b[0;32mreturn\u001b[0m \u001b[0mmemo\u001b[0m\u001b[0;34m[\u001b[0m\u001b[0;34m(\u001b[0m\u001b[0mm\u001b[0m\u001b[0;34m,\u001b[0m \u001b[0mn\u001b[0m\u001b[0;34m)\u001b[0m\u001b[0;34m]\u001b[0m\u001b[0;34m\u001b[0m\u001b[0;34m\u001b[0m\u001b[0m\n\u001b[1;32m     11\u001b[0m \u001b[0;34m\u001b[0m\u001b[0m\n\u001b[0;32m---> 12\u001b[0;31m \u001b[0mgridWalk\u001b[0m\u001b[0;34m(\u001b[0m\u001b[0;36m18\u001b[0m\u001b[0;34m,\u001b[0m\u001b[0;36m18\u001b[0m\u001b[0;34m)\u001b[0m\u001b[0;34m\u001b[0m\u001b[0;34m\u001b[0m\u001b[0m\n\u001b[0m",
      "\u001b[0;32m<ipython-input-437-bf47e10393ed>\u001b[0m in \u001b[0;36mgridWalk\u001b[0;34m(m, n, memo)\u001b[0m\n\u001b[1;32m      7\u001b[0m         \u001b[0;32mreturn\u001b[0m \u001b[0;36m1\u001b[0m\u001b[0;34m\u001b[0m\u001b[0;34m\u001b[0m\u001b[0m\n\u001b[1;32m      8\u001b[0m \u001b[0;34m\u001b[0m\u001b[0m\n\u001b[0;32m----> 9\u001b[0;31m     \u001b[0mmemo\u001b[0m\u001b[0;34m[\u001b[0m\u001b[0;34m(\u001b[0m\u001b[0mm\u001b[0m\u001b[0;34m,\u001b[0m \u001b[0mn\u001b[0m\u001b[0;34m)\u001b[0m\u001b[0;34m]\u001b[0m \u001b[0;34m=\u001b[0m \u001b[0mgridWalk\u001b[0m\u001b[0;34m(\u001b[0m\u001b[0mm\u001b[0m\u001b[0;34m-\u001b[0m\u001b[0;36m1\u001b[0m\u001b[0;34m,\u001b[0m \u001b[0mn\u001b[0m\u001b[0;34m)\u001b[0m \u001b[0;34m+\u001b[0m \u001b[0mgridWalk\u001b[0m\u001b[0;34m(\u001b[0m\u001b[0mm\u001b[0m\u001b[0;34m,\u001b[0m \u001b[0mn\u001b[0m\u001b[0;34m-\u001b[0m\u001b[0;36m1\u001b[0m\u001b[0;34m)\u001b[0m\u001b[0;34m\u001b[0m\u001b[0;34m\u001b[0m\u001b[0m\n\u001b[0m\u001b[1;32m     10\u001b[0m     \u001b[0;32mreturn\u001b[0m \u001b[0mmemo\u001b[0m\u001b[0;34m[\u001b[0m\u001b[0;34m(\u001b[0m\u001b[0mm\u001b[0m\u001b[0;34m,\u001b[0m \u001b[0mn\u001b[0m\u001b[0;34m)\u001b[0m\u001b[0;34m]\u001b[0m\u001b[0;34m\u001b[0m\u001b[0;34m\u001b[0m\u001b[0m\n\u001b[1;32m     11\u001b[0m \u001b[0;34m\u001b[0m\u001b[0m\n",
      "\u001b[0;32m<ipython-input-437-bf47e10393ed>\u001b[0m in \u001b[0;36mgridWalk\u001b[0;34m(m, n, memo)\u001b[0m\n\u001b[1;32m      7\u001b[0m         \u001b[0;32mreturn\u001b[0m \u001b[0;36m1\u001b[0m\u001b[0;34m\u001b[0m\u001b[0;34m\u001b[0m\u001b[0m\n\u001b[1;32m      8\u001b[0m \u001b[0;34m\u001b[0m\u001b[0m\n\u001b[0;32m----> 9\u001b[0;31m     \u001b[0mmemo\u001b[0m\u001b[0;34m[\u001b[0m\u001b[0;34m(\u001b[0m\u001b[0mm\u001b[0m\u001b[0;34m,\u001b[0m \u001b[0mn\u001b[0m\u001b[0;34m)\u001b[0m\u001b[0;34m]\u001b[0m \u001b[0;34m=\u001b[0m \u001b[0mgridWalk\u001b[0m\u001b[0;34m(\u001b[0m\u001b[0mm\u001b[0m\u001b[0;34m-\u001b[0m\u001b[0;36m1\u001b[0m\u001b[0;34m,\u001b[0m \u001b[0mn\u001b[0m\u001b[0;34m)\u001b[0m \u001b[0;34m+\u001b[0m \u001b[0mgridWalk\u001b[0m\u001b[0;34m(\u001b[0m\u001b[0mm\u001b[0m\u001b[0;34m,\u001b[0m \u001b[0mn\u001b[0m\u001b[0;34m-\u001b[0m\u001b[0;36m1\u001b[0m\u001b[0;34m)\u001b[0m\u001b[0;34m\u001b[0m\u001b[0;34m\u001b[0m\u001b[0m\n\u001b[0m\u001b[1;32m     10\u001b[0m     \u001b[0;32mreturn\u001b[0m \u001b[0mmemo\u001b[0m\u001b[0;34m[\u001b[0m\u001b[0;34m(\u001b[0m\u001b[0mm\u001b[0m\u001b[0;34m,\u001b[0m \u001b[0mn\u001b[0m\u001b[0;34m)\u001b[0m\u001b[0;34m]\u001b[0m\u001b[0;34m\u001b[0m\u001b[0;34m\u001b[0m\u001b[0m\n\u001b[1;32m     11\u001b[0m \u001b[0;34m\u001b[0m\u001b[0m\n",
      "\u001b[0;32m<ipython-input-437-bf47e10393ed>\u001b[0m in \u001b[0;36mgridWalk\u001b[0;34m(m, n, memo)\u001b[0m\n\u001b[1;32m      7\u001b[0m         \u001b[0;32mreturn\u001b[0m \u001b[0;36m1\u001b[0m\u001b[0;34m\u001b[0m\u001b[0;34m\u001b[0m\u001b[0m\n\u001b[1;32m      8\u001b[0m \u001b[0;34m\u001b[0m\u001b[0m\n\u001b[0;32m----> 9\u001b[0;31m     \u001b[0mmemo\u001b[0m\u001b[0;34m[\u001b[0m\u001b[0;34m(\u001b[0m\u001b[0mm\u001b[0m\u001b[0;34m,\u001b[0m \u001b[0mn\u001b[0m\u001b[0;34m)\u001b[0m\u001b[0;34m]\u001b[0m \u001b[0;34m=\u001b[0m \u001b[0mgridWalk\u001b[0m\u001b[0;34m(\u001b[0m\u001b[0mm\u001b[0m\u001b[0;34m-\u001b[0m\u001b[0;36m1\u001b[0m\u001b[0;34m,\u001b[0m \u001b[0mn\u001b[0m\u001b[0;34m)\u001b[0m \u001b[0;34m+\u001b[0m \u001b[0mgridWalk\u001b[0m\u001b[0;34m(\u001b[0m\u001b[0mm\u001b[0m\u001b[0;34m,\u001b[0m \u001b[0mn\u001b[0m\u001b[0;34m-\u001b[0m\u001b[0;36m1\u001b[0m\u001b[0;34m)\u001b[0m\u001b[0;34m\u001b[0m\u001b[0;34m\u001b[0m\u001b[0m\n\u001b[0m\u001b[1;32m     10\u001b[0m     \u001b[0;32mreturn\u001b[0m \u001b[0mmemo\u001b[0m\u001b[0;34m[\u001b[0m\u001b[0;34m(\u001b[0m\u001b[0mm\u001b[0m\u001b[0;34m,\u001b[0m \u001b[0mn\u001b[0m\u001b[0;34m)\u001b[0m\u001b[0;34m]\u001b[0m\u001b[0;34m\u001b[0m\u001b[0;34m\u001b[0m\u001b[0m\n\u001b[1;32m     11\u001b[0m \u001b[0;34m\u001b[0m\u001b[0m\n",
      "\u001b[0;32m<ipython-input-437-bf47e10393ed>\u001b[0m in \u001b[0;36mgridWalk\u001b[0;34m(m, n, memo)\u001b[0m\n\u001b[1;32m      7\u001b[0m         \u001b[0;32mreturn\u001b[0m \u001b[0;36m1\u001b[0m\u001b[0;34m\u001b[0m\u001b[0;34m\u001b[0m\u001b[0m\n\u001b[1;32m      8\u001b[0m \u001b[0;34m\u001b[0m\u001b[0m\n\u001b[0;32m----> 9\u001b[0;31m     \u001b[0mmemo\u001b[0m\u001b[0;34m[\u001b[0m\u001b[0;34m(\u001b[0m\u001b[0mm\u001b[0m\u001b[0;34m,\u001b[0m \u001b[0mn\u001b[0m\u001b[0;34m)\u001b[0m\u001b[0;34m]\u001b[0m \u001b[0;34m=\u001b[0m \u001b[0mgridWalk\u001b[0m\u001b[0;34m(\u001b[0m\u001b[0mm\u001b[0m\u001b[0;34m-\u001b[0m\u001b[0;36m1\u001b[0m\u001b[0;34m,\u001b[0m \u001b[0mn\u001b[0m\u001b[0;34m)\u001b[0m \u001b[0;34m+\u001b[0m \u001b[0mgridWalk\u001b[0m\u001b[0;34m(\u001b[0m\u001b[0mm\u001b[0m\u001b[0;34m,\u001b[0m \u001b[0mn\u001b[0m\u001b[0;34m-\u001b[0m\u001b[0;36m1\u001b[0m\u001b[0;34m)\u001b[0m\u001b[0;34m\u001b[0m\u001b[0;34m\u001b[0m\u001b[0m\n\u001b[0m\u001b[1;32m     10\u001b[0m     \u001b[0;32mreturn\u001b[0m \u001b[0mmemo\u001b[0m\u001b[0;34m[\u001b[0m\u001b[0;34m(\u001b[0m\u001b[0mm\u001b[0m\u001b[0;34m,\u001b[0m \u001b[0mn\u001b[0m\u001b[0;34m)\u001b[0m\u001b[0;34m]\u001b[0m\u001b[0;34m\u001b[0m\u001b[0;34m\u001b[0m\u001b[0m\n\u001b[1;32m     11\u001b[0m \u001b[0;34m\u001b[0m\u001b[0m\n",
      "\u001b[0;32m<ipython-input-437-bf47e10393ed>\u001b[0m in \u001b[0;36mgridWalk\u001b[0;34m(m, n, memo)\u001b[0m\n\u001b[1;32m      7\u001b[0m         \u001b[0;32mreturn\u001b[0m \u001b[0;36m1\u001b[0m\u001b[0;34m\u001b[0m\u001b[0;34m\u001b[0m\u001b[0m\n\u001b[1;32m      8\u001b[0m \u001b[0;34m\u001b[0m\u001b[0m\n\u001b[0;32m----> 9\u001b[0;31m     \u001b[0mmemo\u001b[0m\u001b[0;34m[\u001b[0m\u001b[0;34m(\u001b[0m\u001b[0mm\u001b[0m\u001b[0;34m,\u001b[0m \u001b[0mn\u001b[0m\u001b[0;34m)\u001b[0m\u001b[0;34m]\u001b[0m \u001b[0;34m=\u001b[0m \u001b[0mgridWalk\u001b[0m\u001b[0;34m(\u001b[0m\u001b[0mm\u001b[0m\u001b[0;34m-\u001b[0m\u001b[0;36m1\u001b[0m\u001b[0;34m,\u001b[0m \u001b[0mn\u001b[0m\u001b[0;34m)\u001b[0m \u001b[0;34m+\u001b[0m \u001b[0mgridWalk\u001b[0m\u001b[0;34m(\u001b[0m\u001b[0mm\u001b[0m\u001b[0;34m,\u001b[0m \u001b[0mn\u001b[0m\u001b[0;34m-\u001b[0m\u001b[0;36m1\u001b[0m\u001b[0;34m)\u001b[0m\u001b[0;34m\u001b[0m\u001b[0;34m\u001b[0m\u001b[0m\n\u001b[0m\u001b[1;32m     10\u001b[0m     \u001b[0;32mreturn\u001b[0m \u001b[0mmemo\u001b[0m\u001b[0;34m[\u001b[0m\u001b[0;34m(\u001b[0m\u001b[0mm\u001b[0m\u001b[0;34m,\u001b[0m \u001b[0mn\u001b[0m\u001b[0;34m)\u001b[0m\u001b[0;34m]\u001b[0m\u001b[0;34m\u001b[0m\u001b[0;34m\u001b[0m\u001b[0m\n\u001b[1;32m     11\u001b[0m \u001b[0;34m\u001b[0m\u001b[0m\n",
      "\u001b[0;32m<ipython-input-437-bf47e10393ed>\u001b[0m in \u001b[0;36mgridWalk\u001b[0;34m(m, n, memo)\u001b[0m\n\u001b[1;32m      7\u001b[0m         \u001b[0;32mreturn\u001b[0m \u001b[0;36m1\u001b[0m\u001b[0;34m\u001b[0m\u001b[0;34m\u001b[0m\u001b[0m\n\u001b[1;32m      8\u001b[0m \u001b[0;34m\u001b[0m\u001b[0m\n\u001b[0;32m----> 9\u001b[0;31m     \u001b[0mmemo\u001b[0m\u001b[0;34m[\u001b[0m\u001b[0;34m(\u001b[0m\u001b[0mm\u001b[0m\u001b[0;34m,\u001b[0m \u001b[0mn\u001b[0m\u001b[0;34m)\u001b[0m\u001b[0;34m]\u001b[0m \u001b[0;34m=\u001b[0m \u001b[0mgridWalk\u001b[0m\u001b[0;34m(\u001b[0m\u001b[0mm\u001b[0m\u001b[0;34m-\u001b[0m\u001b[0;36m1\u001b[0m\u001b[0;34m,\u001b[0m \u001b[0mn\u001b[0m\u001b[0;34m)\u001b[0m \u001b[0;34m+\u001b[0m \u001b[0mgridWalk\u001b[0m\u001b[0;34m(\u001b[0m\u001b[0mm\u001b[0m\u001b[0;34m,\u001b[0m \u001b[0mn\u001b[0m\u001b[0;34m-\u001b[0m\u001b[0;36m1\u001b[0m\u001b[0;34m)\u001b[0m\u001b[0;34m\u001b[0m\u001b[0;34m\u001b[0m\u001b[0m\n\u001b[0m\u001b[1;32m     10\u001b[0m     \u001b[0;32mreturn\u001b[0m \u001b[0mmemo\u001b[0m\u001b[0;34m[\u001b[0m\u001b[0;34m(\u001b[0m\u001b[0mm\u001b[0m\u001b[0;34m,\u001b[0m \u001b[0mn\u001b[0m\u001b[0;34m)\u001b[0m\u001b[0;34m]\u001b[0m\u001b[0;34m\u001b[0m\u001b[0;34m\u001b[0m\u001b[0m\n\u001b[1;32m     11\u001b[0m \u001b[0;34m\u001b[0m\u001b[0m\n",
      "\u001b[0;32m<ipython-input-437-bf47e10393ed>\u001b[0m in \u001b[0;36mgridWalk\u001b[0;34m(m, n, memo)\u001b[0m\n\u001b[1;32m      7\u001b[0m         \u001b[0;32mreturn\u001b[0m \u001b[0;36m1\u001b[0m\u001b[0;34m\u001b[0m\u001b[0;34m\u001b[0m\u001b[0m\n\u001b[1;32m      8\u001b[0m \u001b[0;34m\u001b[0m\u001b[0m\n\u001b[0;32m----> 9\u001b[0;31m     \u001b[0mmemo\u001b[0m\u001b[0;34m[\u001b[0m\u001b[0;34m(\u001b[0m\u001b[0mm\u001b[0m\u001b[0;34m,\u001b[0m \u001b[0mn\u001b[0m\u001b[0;34m)\u001b[0m\u001b[0;34m]\u001b[0m \u001b[0;34m=\u001b[0m \u001b[0mgridWalk\u001b[0m\u001b[0;34m(\u001b[0m\u001b[0mm\u001b[0m\u001b[0;34m-\u001b[0m\u001b[0;36m1\u001b[0m\u001b[0;34m,\u001b[0m \u001b[0mn\u001b[0m\u001b[0;34m)\u001b[0m \u001b[0;34m+\u001b[0m \u001b[0mgridWalk\u001b[0m\u001b[0;34m(\u001b[0m\u001b[0mm\u001b[0m\u001b[0;34m,\u001b[0m \u001b[0mn\u001b[0m\u001b[0;34m-\u001b[0m\u001b[0;36m1\u001b[0m\u001b[0;34m)\u001b[0m\u001b[0;34m\u001b[0m\u001b[0;34m\u001b[0m\u001b[0m\n\u001b[0m\u001b[1;32m     10\u001b[0m     \u001b[0;32mreturn\u001b[0m \u001b[0mmemo\u001b[0m\u001b[0;34m[\u001b[0m\u001b[0;34m(\u001b[0m\u001b[0mm\u001b[0m\u001b[0;34m,\u001b[0m \u001b[0mn\u001b[0m\u001b[0;34m)\u001b[0m\u001b[0;34m]\u001b[0m\u001b[0;34m\u001b[0m\u001b[0;34m\u001b[0m\u001b[0m\n\u001b[1;32m     11\u001b[0m \u001b[0;34m\u001b[0m\u001b[0m\n",
      "\u001b[0;32m<ipython-input-437-bf47e10393ed>\u001b[0m in \u001b[0;36mgridWalk\u001b[0;34m(m, n, memo)\u001b[0m\n\u001b[1;32m      7\u001b[0m         \u001b[0;32mreturn\u001b[0m \u001b[0;36m1\u001b[0m\u001b[0;34m\u001b[0m\u001b[0;34m\u001b[0m\u001b[0m\n\u001b[1;32m      8\u001b[0m \u001b[0;34m\u001b[0m\u001b[0m\n\u001b[0;32m----> 9\u001b[0;31m     \u001b[0mmemo\u001b[0m\u001b[0;34m[\u001b[0m\u001b[0;34m(\u001b[0m\u001b[0mm\u001b[0m\u001b[0;34m,\u001b[0m \u001b[0mn\u001b[0m\u001b[0;34m)\u001b[0m\u001b[0;34m]\u001b[0m \u001b[0;34m=\u001b[0m \u001b[0mgridWalk\u001b[0m\u001b[0;34m(\u001b[0m\u001b[0mm\u001b[0m\u001b[0;34m-\u001b[0m\u001b[0;36m1\u001b[0m\u001b[0;34m,\u001b[0m \u001b[0mn\u001b[0m\u001b[0;34m)\u001b[0m \u001b[0;34m+\u001b[0m \u001b[0mgridWalk\u001b[0m\u001b[0;34m(\u001b[0m\u001b[0mm\u001b[0m\u001b[0;34m,\u001b[0m \u001b[0mn\u001b[0m\u001b[0;34m-\u001b[0m\u001b[0;36m1\u001b[0m\u001b[0;34m)\u001b[0m\u001b[0;34m\u001b[0m\u001b[0;34m\u001b[0m\u001b[0m\n\u001b[0m\u001b[1;32m     10\u001b[0m     \u001b[0;32mreturn\u001b[0m \u001b[0mmemo\u001b[0m\u001b[0;34m[\u001b[0m\u001b[0;34m(\u001b[0m\u001b[0mm\u001b[0m\u001b[0;34m,\u001b[0m \u001b[0mn\u001b[0m\u001b[0;34m)\u001b[0m\u001b[0;34m]\u001b[0m\u001b[0;34m\u001b[0m\u001b[0;34m\u001b[0m\u001b[0m\n\u001b[1;32m     11\u001b[0m \u001b[0;34m\u001b[0m\u001b[0m\n",
      "\u001b[0;32m<ipython-input-437-bf47e10393ed>\u001b[0m in \u001b[0;36mgridWalk\u001b[0;34m(m, n, memo)\u001b[0m\n\u001b[1;32m      7\u001b[0m         \u001b[0;32mreturn\u001b[0m \u001b[0;36m1\u001b[0m\u001b[0;34m\u001b[0m\u001b[0;34m\u001b[0m\u001b[0m\n\u001b[1;32m      8\u001b[0m \u001b[0;34m\u001b[0m\u001b[0m\n\u001b[0;32m----> 9\u001b[0;31m     \u001b[0mmemo\u001b[0m\u001b[0;34m[\u001b[0m\u001b[0;34m(\u001b[0m\u001b[0mm\u001b[0m\u001b[0;34m,\u001b[0m \u001b[0mn\u001b[0m\u001b[0;34m)\u001b[0m\u001b[0;34m]\u001b[0m \u001b[0;34m=\u001b[0m \u001b[0mgridWalk\u001b[0m\u001b[0;34m(\u001b[0m\u001b[0mm\u001b[0m\u001b[0;34m-\u001b[0m\u001b[0;36m1\u001b[0m\u001b[0;34m,\u001b[0m \u001b[0mn\u001b[0m\u001b[0;34m)\u001b[0m \u001b[0;34m+\u001b[0m \u001b[0mgridWalk\u001b[0m\u001b[0;34m(\u001b[0m\u001b[0mm\u001b[0m\u001b[0;34m,\u001b[0m \u001b[0mn\u001b[0m\u001b[0;34m-\u001b[0m\u001b[0;36m1\u001b[0m\u001b[0;34m)\u001b[0m\u001b[0;34m\u001b[0m\u001b[0;34m\u001b[0m\u001b[0m\n\u001b[0m\u001b[1;32m     10\u001b[0m     \u001b[0;32mreturn\u001b[0m \u001b[0mmemo\u001b[0m\u001b[0;34m[\u001b[0m\u001b[0;34m(\u001b[0m\u001b[0mm\u001b[0m\u001b[0;34m,\u001b[0m \u001b[0mn\u001b[0m\u001b[0;34m)\u001b[0m\u001b[0;34m]\u001b[0m\u001b[0;34m\u001b[0m\u001b[0;34m\u001b[0m\u001b[0m\n\u001b[1;32m     11\u001b[0m \u001b[0;34m\u001b[0m\u001b[0m\n",
      "\u001b[0;32m<ipython-input-437-bf47e10393ed>\u001b[0m in \u001b[0;36mgridWalk\u001b[0;34m(m, n, memo)\u001b[0m\n\u001b[1;32m      7\u001b[0m         \u001b[0;32mreturn\u001b[0m \u001b[0;36m1\u001b[0m\u001b[0;34m\u001b[0m\u001b[0;34m\u001b[0m\u001b[0m\n\u001b[1;32m      8\u001b[0m \u001b[0;34m\u001b[0m\u001b[0m\n\u001b[0;32m----> 9\u001b[0;31m     \u001b[0mmemo\u001b[0m\u001b[0;34m[\u001b[0m\u001b[0;34m(\u001b[0m\u001b[0mm\u001b[0m\u001b[0;34m,\u001b[0m \u001b[0mn\u001b[0m\u001b[0;34m)\u001b[0m\u001b[0;34m]\u001b[0m \u001b[0;34m=\u001b[0m \u001b[0mgridWalk\u001b[0m\u001b[0;34m(\u001b[0m\u001b[0mm\u001b[0m\u001b[0;34m-\u001b[0m\u001b[0;36m1\u001b[0m\u001b[0;34m,\u001b[0m \u001b[0mn\u001b[0m\u001b[0;34m)\u001b[0m \u001b[0;34m+\u001b[0m \u001b[0mgridWalk\u001b[0m\u001b[0;34m(\u001b[0m\u001b[0mm\u001b[0m\u001b[0;34m,\u001b[0m \u001b[0mn\u001b[0m\u001b[0;34m-\u001b[0m\u001b[0;36m1\u001b[0m\u001b[0;34m)\u001b[0m\u001b[0;34m\u001b[0m\u001b[0;34m\u001b[0m\u001b[0m\n\u001b[0m\u001b[1;32m     10\u001b[0m     \u001b[0;32mreturn\u001b[0m \u001b[0mmemo\u001b[0m\u001b[0;34m[\u001b[0m\u001b[0;34m(\u001b[0m\u001b[0mm\u001b[0m\u001b[0;34m,\u001b[0m \u001b[0mn\u001b[0m\u001b[0;34m)\u001b[0m\u001b[0;34m]\u001b[0m\u001b[0;34m\u001b[0m\u001b[0;34m\u001b[0m\u001b[0m\n\u001b[1;32m     11\u001b[0m \u001b[0;34m\u001b[0m\u001b[0m\n",
      "\u001b[0;32m<ipython-input-437-bf47e10393ed>\u001b[0m in \u001b[0;36mgridWalk\u001b[0;34m(m, n, memo)\u001b[0m\n\u001b[1;32m      7\u001b[0m         \u001b[0;32mreturn\u001b[0m \u001b[0;36m1\u001b[0m\u001b[0;34m\u001b[0m\u001b[0;34m\u001b[0m\u001b[0m\n\u001b[1;32m      8\u001b[0m \u001b[0;34m\u001b[0m\u001b[0m\n\u001b[0;32m----> 9\u001b[0;31m     \u001b[0mmemo\u001b[0m\u001b[0;34m[\u001b[0m\u001b[0;34m(\u001b[0m\u001b[0mm\u001b[0m\u001b[0;34m,\u001b[0m \u001b[0mn\u001b[0m\u001b[0;34m)\u001b[0m\u001b[0;34m]\u001b[0m \u001b[0;34m=\u001b[0m \u001b[0mgridWalk\u001b[0m\u001b[0;34m(\u001b[0m\u001b[0mm\u001b[0m\u001b[0;34m-\u001b[0m\u001b[0;36m1\u001b[0m\u001b[0;34m,\u001b[0m \u001b[0mn\u001b[0m\u001b[0;34m)\u001b[0m \u001b[0;34m+\u001b[0m \u001b[0mgridWalk\u001b[0m\u001b[0;34m(\u001b[0m\u001b[0mm\u001b[0m\u001b[0;34m,\u001b[0m \u001b[0mn\u001b[0m\u001b[0;34m-\u001b[0m\u001b[0;36m1\u001b[0m\u001b[0;34m)\u001b[0m\u001b[0;34m\u001b[0m\u001b[0;34m\u001b[0m\u001b[0m\n\u001b[0m\u001b[1;32m     10\u001b[0m     \u001b[0;32mreturn\u001b[0m \u001b[0mmemo\u001b[0m\u001b[0;34m[\u001b[0m\u001b[0;34m(\u001b[0m\u001b[0mm\u001b[0m\u001b[0;34m,\u001b[0m \u001b[0mn\u001b[0m\u001b[0;34m)\u001b[0m\u001b[0;34m]\u001b[0m\u001b[0;34m\u001b[0m\u001b[0;34m\u001b[0m\u001b[0m\n\u001b[1;32m     11\u001b[0m \u001b[0;34m\u001b[0m\u001b[0m\n",
      "\u001b[0;32m<ipython-input-437-bf47e10393ed>\u001b[0m in \u001b[0;36mgridWalk\u001b[0;34m(m, n, memo)\u001b[0m\n\u001b[1;32m      7\u001b[0m         \u001b[0;32mreturn\u001b[0m \u001b[0;36m1\u001b[0m\u001b[0;34m\u001b[0m\u001b[0;34m\u001b[0m\u001b[0m\n\u001b[1;32m      8\u001b[0m \u001b[0;34m\u001b[0m\u001b[0m\n\u001b[0;32m----> 9\u001b[0;31m     \u001b[0mmemo\u001b[0m\u001b[0;34m[\u001b[0m\u001b[0;34m(\u001b[0m\u001b[0mm\u001b[0m\u001b[0;34m,\u001b[0m \u001b[0mn\u001b[0m\u001b[0;34m)\u001b[0m\u001b[0;34m]\u001b[0m \u001b[0;34m=\u001b[0m \u001b[0mgridWalk\u001b[0m\u001b[0;34m(\u001b[0m\u001b[0mm\u001b[0m\u001b[0;34m-\u001b[0m\u001b[0;36m1\u001b[0m\u001b[0;34m,\u001b[0m \u001b[0mn\u001b[0m\u001b[0;34m)\u001b[0m \u001b[0;34m+\u001b[0m \u001b[0mgridWalk\u001b[0m\u001b[0;34m(\u001b[0m\u001b[0mm\u001b[0m\u001b[0;34m,\u001b[0m \u001b[0mn\u001b[0m\u001b[0;34m-\u001b[0m\u001b[0;36m1\u001b[0m\u001b[0;34m)\u001b[0m\u001b[0;34m\u001b[0m\u001b[0;34m\u001b[0m\u001b[0m\n\u001b[0m\u001b[1;32m     10\u001b[0m     \u001b[0;32mreturn\u001b[0m \u001b[0mmemo\u001b[0m\u001b[0;34m[\u001b[0m\u001b[0;34m(\u001b[0m\u001b[0mm\u001b[0m\u001b[0;34m,\u001b[0m \u001b[0mn\u001b[0m\u001b[0;34m)\u001b[0m\u001b[0;34m]\u001b[0m\u001b[0;34m\u001b[0m\u001b[0;34m\u001b[0m\u001b[0m\n\u001b[1;32m     11\u001b[0m \u001b[0;34m\u001b[0m\u001b[0m\n",
      "\u001b[0;32m<ipython-input-437-bf47e10393ed>\u001b[0m in \u001b[0;36mgridWalk\u001b[0;34m(m, n, memo)\u001b[0m\n\u001b[1;32m      7\u001b[0m         \u001b[0;32mreturn\u001b[0m \u001b[0;36m1\u001b[0m\u001b[0;34m\u001b[0m\u001b[0;34m\u001b[0m\u001b[0m\n\u001b[1;32m      8\u001b[0m \u001b[0;34m\u001b[0m\u001b[0m\n\u001b[0;32m----> 9\u001b[0;31m     \u001b[0mmemo\u001b[0m\u001b[0;34m[\u001b[0m\u001b[0;34m(\u001b[0m\u001b[0mm\u001b[0m\u001b[0;34m,\u001b[0m \u001b[0mn\u001b[0m\u001b[0;34m)\u001b[0m\u001b[0;34m]\u001b[0m \u001b[0;34m=\u001b[0m \u001b[0mgridWalk\u001b[0m\u001b[0;34m(\u001b[0m\u001b[0mm\u001b[0m\u001b[0;34m-\u001b[0m\u001b[0;36m1\u001b[0m\u001b[0;34m,\u001b[0m \u001b[0mn\u001b[0m\u001b[0;34m)\u001b[0m \u001b[0;34m+\u001b[0m \u001b[0mgridWalk\u001b[0m\u001b[0;34m(\u001b[0m\u001b[0mm\u001b[0m\u001b[0;34m,\u001b[0m \u001b[0mn\u001b[0m\u001b[0;34m-\u001b[0m\u001b[0;36m1\u001b[0m\u001b[0;34m)\u001b[0m\u001b[0;34m\u001b[0m\u001b[0;34m\u001b[0m\u001b[0m\n\u001b[0m\u001b[1;32m     10\u001b[0m     \u001b[0;32mreturn\u001b[0m \u001b[0mmemo\u001b[0m\u001b[0;34m[\u001b[0m\u001b[0;34m(\u001b[0m\u001b[0mm\u001b[0m\u001b[0;34m,\u001b[0m \u001b[0mn\u001b[0m\u001b[0;34m)\u001b[0m\u001b[0;34m]\u001b[0m\u001b[0;34m\u001b[0m\u001b[0;34m\u001b[0m\u001b[0m\n\u001b[1;32m     11\u001b[0m \u001b[0;34m\u001b[0m\u001b[0m\n",
      "\u001b[0;32m<ipython-input-437-bf47e10393ed>\u001b[0m in \u001b[0;36mgridWalk\u001b[0;34m(m, n, memo)\u001b[0m\n\u001b[1;32m      7\u001b[0m         \u001b[0;32mreturn\u001b[0m \u001b[0;36m1\u001b[0m\u001b[0;34m\u001b[0m\u001b[0;34m\u001b[0m\u001b[0m\n\u001b[1;32m      8\u001b[0m \u001b[0;34m\u001b[0m\u001b[0m\n\u001b[0;32m----> 9\u001b[0;31m     \u001b[0mmemo\u001b[0m\u001b[0;34m[\u001b[0m\u001b[0;34m(\u001b[0m\u001b[0mm\u001b[0m\u001b[0;34m,\u001b[0m \u001b[0mn\u001b[0m\u001b[0;34m)\u001b[0m\u001b[0;34m]\u001b[0m \u001b[0;34m=\u001b[0m \u001b[0mgridWalk\u001b[0m\u001b[0;34m(\u001b[0m\u001b[0mm\u001b[0m\u001b[0;34m-\u001b[0m\u001b[0;36m1\u001b[0m\u001b[0;34m,\u001b[0m \u001b[0mn\u001b[0m\u001b[0;34m)\u001b[0m \u001b[0;34m+\u001b[0m \u001b[0mgridWalk\u001b[0m\u001b[0;34m(\u001b[0m\u001b[0mm\u001b[0m\u001b[0;34m,\u001b[0m \u001b[0mn\u001b[0m\u001b[0;34m-\u001b[0m\u001b[0;36m1\u001b[0m\u001b[0;34m)\u001b[0m\u001b[0;34m\u001b[0m\u001b[0;34m\u001b[0m\u001b[0m\n\u001b[0m\u001b[1;32m     10\u001b[0m     \u001b[0;32mreturn\u001b[0m \u001b[0mmemo\u001b[0m\u001b[0;34m[\u001b[0m\u001b[0;34m(\u001b[0m\u001b[0mm\u001b[0m\u001b[0;34m,\u001b[0m \u001b[0mn\u001b[0m\u001b[0;34m)\u001b[0m\u001b[0;34m]\u001b[0m\u001b[0;34m\u001b[0m\u001b[0;34m\u001b[0m\u001b[0m\n\u001b[1;32m     11\u001b[0m \u001b[0;34m\u001b[0m\u001b[0m\n",
      "\u001b[0;32m<ipython-input-437-bf47e10393ed>\u001b[0m in \u001b[0;36mgridWalk\u001b[0;34m(m, n, memo)\u001b[0m\n\u001b[1;32m      7\u001b[0m         \u001b[0;32mreturn\u001b[0m \u001b[0;36m1\u001b[0m\u001b[0;34m\u001b[0m\u001b[0;34m\u001b[0m\u001b[0m\n\u001b[1;32m      8\u001b[0m \u001b[0;34m\u001b[0m\u001b[0m\n\u001b[0;32m----> 9\u001b[0;31m     \u001b[0mmemo\u001b[0m\u001b[0;34m[\u001b[0m\u001b[0;34m(\u001b[0m\u001b[0mm\u001b[0m\u001b[0;34m,\u001b[0m \u001b[0mn\u001b[0m\u001b[0;34m)\u001b[0m\u001b[0;34m]\u001b[0m \u001b[0;34m=\u001b[0m \u001b[0mgridWalk\u001b[0m\u001b[0;34m(\u001b[0m\u001b[0mm\u001b[0m\u001b[0;34m-\u001b[0m\u001b[0;36m1\u001b[0m\u001b[0;34m,\u001b[0m \u001b[0mn\u001b[0m\u001b[0;34m)\u001b[0m \u001b[0;34m+\u001b[0m \u001b[0mgridWalk\u001b[0m\u001b[0;34m(\u001b[0m\u001b[0mm\u001b[0m\u001b[0;34m,\u001b[0m \u001b[0mn\u001b[0m\u001b[0;34m-\u001b[0m\u001b[0;36m1\u001b[0m\u001b[0;34m)\u001b[0m\u001b[0;34m\u001b[0m\u001b[0;34m\u001b[0m\u001b[0m\n\u001b[0m\u001b[1;32m     10\u001b[0m     \u001b[0;32mreturn\u001b[0m \u001b[0mmemo\u001b[0m\u001b[0;34m[\u001b[0m\u001b[0;34m(\u001b[0m\u001b[0mm\u001b[0m\u001b[0;34m,\u001b[0m \u001b[0mn\u001b[0m\u001b[0;34m)\u001b[0m\u001b[0;34m]\u001b[0m\u001b[0;34m\u001b[0m\u001b[0;34m\u001b[0m\u001b[0m\n\u001b[1;32m     11\u001b[0m \u001b[0;34m\u001b[0m\u001b[0m\n",
      "\u001b[0;32m<ipython-input-437-bf47e10393ed>\u001b[0m in \u001b[0;36mgridWalk\u001b[0;34m(m, n, memo)\u001b[0m\n\u001b[1;32m      7\u001b[0m         \u001b[0;32mreturn\u001b[0m \u001b[0;36m1\u001b[0m\u001b[0;34m\u001b[0m\u001b[0;34m\u001b[0m\u001b[0m\n\u001b[1;32m      8\u001b[0m \u001b[0;34m\u001b[0m\u001b[0m\n\u001b[0;32m----> 9\u001b[0;31m     \u001b[0mmemo\u001b[0m\u001b[0;34m[\u001b[0m\u001b[0;34m(\u001b[0m\u001b[0mm\u001b[0m\u001b[0;34m,\u001b[0m \u001b[0mn\u001b[0m\u001b[0;34m)\u001b[0m\u001b[0;34m]\u001b[0m \u001b[0;34m=\u001b[0m \u001b[0mgridWalk\u001b[0m\u001b[0;34m(\u001b[0m\u001b[0mm\u001b[0m\u001b[0;34m-\u001b[0m\u001b[0;36m1\u001b[0m\u001b[0;34m,\u001b[0m \u001b[0mn\u001b[0m\u001b[0;34m)\u001b[0m \u001b[0;34m+\u001b[0m \u001b[0mgridWalk\u001b[0m\u001b[0;34m(\u001b[0m\u001b[0mm\u001b[0m\u001b[0;34m,\u001b[0m \u001b[0mn\u001b[0m\u001b[0;34m-\u001b[0m\u001b[0;36m1\u001b[0m\u001b[0;34m)\u001b[0m\u001b[0;34m\u001b[0m\u001b[0;34m\u001b[0m\u001b[0m\n\u001b[0m\u001b[1;32m     10\u001b[0m     \u001b[0;32mreturn\u001b[0m \u001b[0mmemo\u001b[0m\u001b[0;34m[\u001b[0m\u001b[0;34m(\u001b[0m\u001b[0mm\u001b[0m\u001b[0;34m,\u001b[0m \u001b[0mn\u001b[0m\u001b[0;34m)\u001b[0m\u001b[0;34m]\u001b[0m\u001b[0;34m\u001b[0m\u001b[0;34m\u001b[0m\u001b[0m\n\u001b[1;32m     11\u001b[0m \u001b[0;34m\u001b[0m\u001b[0m\n",
      "\u001b[0;32m<ipython-input-437-bf47e10393ed>\u001b[0m in \u001b[0;36mgridWalk\u001b[0;34m(m, n, memo)\u001b[0m\n\u001b[1;32m      7\u001b[0m         \u001b[0;32mreturn\u001b[0m \u001b[0;36m1\u001b[0m\u001b[0;34m\u001b[0m\u001b[0;34m\u001b[0m\u001b[0m\n\u001b[1;32m      8\u001b[0m \u001b[0;34m\u001b[0m\u001b[0m\n\u001b[0;32m----> 9\u001b[0;31m     \u001b[0mmemo\u001b[0m\u001b[0;34m[\u001b[0m\u001b[0;34m(\u001b[0m\u001b[0mm\u001b[0m\u001b[0;34m,\u001b[0m \u001b[0mn\u001b[0m\u001b[0;34m)\u001b[0m\u001b[0;34m]\u001b[0m \u001b[0;34m=\u001b[0m \u001b[0mgridWalk\u001b[0m\u001b[0;34m(\u001b[0m\u001b[0mm\u001b[0m\u001b[0;34m-\u001b[0m\u001b[0;36m1\u001b[0m\u001b[0;34m,\u001b[0m \u001b[0mn\u001b[0m\u001b[0;34m)\u001b[0m \u001b[0;34m+\u001b[0m \u001b[0mgridWalk\u001b[0m\u001b[0;34m(\u001b[0m\u001b[0mm\u001b[0m\u001b[0;34m,\u001b[0m \u001b[0mn\u001b[0m\u001b[0;34m-\u001b[0m\u001b[0;36m1\u001b[0m\u001b[0;34m)\u001b[0m\u001b[0;34m\u001b[0m\u001b[0;34m\u001b[0m\u001b[0m\n\u001b[0m\u001b[1;32m     10\u001b[0m     \u001b[0;32mreturn\u001b[0m \u001b[0mmemo\u001b[0m\u001b[0;34m[\u001b[0m\u001b[0;34m(\u001b[0m\u001b[0mm\u001b[0m\u001b[0;34m,\u001b[0m \u001b[0mn\u001b[0m\u001b[0;34m)\u001b[0m\u001b[0;34m]\u001b[0m\u001b[0;34m\u001b[0m\u001b[0;34m\u001b[0m\u001b[0m\n\u001b[1;32m     11\u001b[0m \u001b[0;34m\u001b[0m\u001b[0m\n",
      "\u001b[0;32m<ipython-input-437-bf47e10393ed>\u001b[0m in \u001b[0;36mgridWalk\u001b[0;34m(m, n, memo)\u001b[0m\n\u001b[1;32m      7\u001b[0m         \u001b[0;32mreturn\u001b[0m \u001b[0;36m1\u001b[0m\u001b[0;34m\u001b[0m\u001b[0;34m\u001b[0m\u001b[0m\n\u001b[1;32m      8\u001b[0m \u001b[0;34m\u001b[0m\u001b[0m\n\u001b[0;32m----> 9\u001b[0;31m     \u001b[0mmemo\u001b[0m\u001b[0;34m[\u001b[0m\u001b[0;34m(\u001b[0m\u001b[0mm\u001b[0m\u001b[0;34m,\u001b[0m \u001b[0mn\u001b[0m\u001b[0;34m)\u001b[0m\u001b[0;34m]\u001b[0m \u001b[0;34m=\u001b[0m \u001b[0mgridWalk\u001b[0m\u001b[0;34m(\u001b[0m\u001b[0mm\u001b[0m\u001b[0;34m-\u001b[0m\u001b[0;36m1\u001b[0m\u001b[0;34m,\u001b[0m \u001b[0mn\u001b[0m\u001b[0;34m)\u001b[0m \u001b[0;34m+\u001b[0m \u001b[0mgridWalk\u001b[0m\u001b[0;34m(\u001b[0m\u001b[0mm\u001b[0m\u001b[0;34m,\u001b[0m \u001b[0mn\u001b[0m\u001b[0;34m-\u001b[0m\u001b[0;36m1\u001b[0m\u001b[0;34m)\u001b[0m\u001b[0;34m\u001b[0m\u001b[0;34m\u001b[0m\u001b[0m\n\u001b[0m\u001b[1;32m     10\u001b[0m     \u001b[0;32mreturn\u001b[0m \u001b[0mmemo\u001b[0m\u001b[0;34m[\u001b[0m\u001b[0;34m(\u001b[0m\u001b[0mm\u001b[0m\u001b[0;34m,\u001b[0m \u001b[0mn\u001b[0m\u001b[0;34m)\u001b[0m\u001b[0;34m]\u001b[0m\u001b[0;34m\u001b[0m\u001b[0;34m\u001b[0m\u001b[0m\n\u001b[1;32m     11\u001b[0m \u001b[0;34m\u001b[0m\u001b[0m\n",
      "\u001b[0;32m<ipython-input-437-bf47e10393ed>\u001b[0m in \u001b[0;36mgridWalk\u001b[0;34m(m, n, memo)\u001b[0m\n\u001b[1;32m      7\u001b[0m         \u001b[0;32mreturn\u001b[0m \u001b[0;36m1\u001b[0m\u001b[0;34m\u001b[0m\u001b[0;34m\u001b[0m\u001b[0m\n\u001b[1;32m      8\u001b[0m \u001b[0;34m\u001b[0m\u001b[0m\n\u001b[0;32m----> 9\u001b[0;31m     \u001b[0mmemo\u001b[0m\u001b[0;34m[\u001b[0m\u001b[0;34m(\u001b[0m\u001b[0mm\u001b[0m\u001b[0;34m,\u001b[0m \u001b[0mn\u001b[0m\u001b[0;34m)\u001b[0m\u001b[0;34m]\u001b[0m \u001b[0;34m=\u001b[0m \u001b[0mgridWalk\u001b[0m\u001b[0;34m(\u001b[0m\u001b[0mm\u001b[0m\u001b[0;34m-\u001b[0m\u001b[0;36m1\u001b[0m\u001b[0;34m,\u001b[0m \u001b[0mn\u001b[0m\u001b[0;34m)\u001b[0m \u001b[0;34m+\u001b[0m \u001b[0mgridWalk\u001b[0m\u001b[0;34m(\u001b[0m\u001b[0mm\u001b[0m\u001b[0;34m,\u001b[0m \u001b[0mn\u001b[0m\u001b[0;34m-\u001b[0m\u001b[0;36m1\u001b[0m\u001b[0;34m)\u001b[0m\u001b[0;34m\u001b[0m\u001b[0;34m\u001b[0m\u001b[0m\n\u001b[0m\u001b[1;32m     10\u001b[0m     \u001b[0;32mreturn\u001b[0m \u001b[0mmemo\u001b[0m\u001b[0;34m[\u001b[0m\u001b[0;34m(\u001b[0m\u001b[0mm\u001b[0m\u001b[0;34m,\u001b[0m \u001b[0mn\u001b[0m\u001b[0;34m)\u001b[0m\u001b[0;34m]\u001b[0m\u001b[0;34m\u001b[0m\u001b[0;34m\u001b[0m\u001b[0m\n\u001b[1;32m     11\u001b[0m \u001b[0;34m\u001b[0m\u001b[0m\n",
      "\u001b[0;32m<ipython-input-437-bf47e10393ed>\u001b[0m in \u001b[0;36mgridWalk\u001b[0;34m(m, n, memo)\u001b[0m\n\u001b[1;32m      7\u001b[0m         \u001b[0;32mreturn\u001b[0m \u001b[0;36m1\u001b[0m\u001b[0;34m\u001b[0m\u001b[0;34m\u001b[0m\u001b[0m\n\u001b[1;32m      8\u001b[0m \u001b[0;34m\u001b[0m\u001b[0m\n\u001b[0;32m----> 9\u001b[0;31m     \u001b[0mmemo\u001b[0m\u001b[0;34m[\u001b[0m\u001b[0;34m(\u001b[0m\u001b[0mm\u001b[0m\u001b[0;34m,\u001b[0m \u001b[0mn\u001b[0m\u001b[0;34m)\u001b[0m\u001b[0;34m]\u001b[0m \u001b[0;34m=\u001b[0m \u001b[0mgridWalk\u001b[0m\u001b[0;34m(\u001b[0m\u001b[0mm\u001b[0m\u001b[0;34m-\u001b[0m\u001b[0;36m1\u001b[0m\u001b[0;34m,\u001b[0m \u001b[0mn\u001b[0m\u001b[0;34m)\u001b[0m \u001b[0;34m+\u001b[0m \u001b[0mgridWalk\u001b[0m\u001b[0;34m(\u001b[0m\u001b[0mm\u001b[0m\u001b[0;34m,\u001b[0m \u001b[0mn\u001b[0m\u001b[0;34m-\u001b[0m\u001b[0;36m1\u001b[0m\u001b[0;34m)\u001b[0m\u001b[0;34m\u001b[0m\u001b[0;34m\u001b[0m\u001b[0m\n\u001b[0m\u001b[1;32m     10\u001b[0m     \u001b[0;32mreturn\u001b[0m \u001b[0mmemo\u001b[0m\u001b[0;34m[\u001b[0m\u001b[0;34m(\u001b[0m\u001b[0mm\u001b[0m\u001b[0;34m,\u001b[0m \u001b[0mn\u001b[0m\u001b[0;34m)\u001b[0m\u001b[0;34m]\u001b[0m\u001b[0;34m\u001b[0m\u001b[0;34m\u001b[0m\u001b[0m\n\u001b[1;32m     11\u001b[0m \u001b[0;34m\u001b[0m\u001b[0m\n",
      "\u001b[0;32m<ipython-input-437-bf47e10393ed>\u001b[0m in \u001b[0;36mgridWalk\u001b[0;34m(m, n, memo)\u001b[0m\n\u001b[1;32m      7\u001b[0m         \u001b[0;32mreturn\u001b[0m \u001b[0;36m1\u001b[0m\u001b[0;34m\u001b[0m\u001b[0;34m\u001b[0m\u001b[0m\n\u001b[1;32m      8\u001b[0m \u001b[0;34m\u001b[0m\u001b[0m\n\u001b[0;32m----> 9\u001b[0;31m     \u001b[0mmemo\u001b[0m\u001b[0;34m[\u001b[0m\u001b[0;34m(\u001b[0m\u001b[0mm\u001b[0m\u001b[0;34m,\u001b[0m \u001b[0mn\u001b[0m\u001b[0;34m)\u001b[0m\u001b[0;34m]\u001b[0m \u001b[0;34m=\u001b[0m \u001b[0mgridWalk\u001b[0m\u001b[0;34m(\u001b[0m\u001b[0mm\u001b[0m\u001b[0;34m-\u001b[0m\u001b[0;36m1\u001b[0m\u001b[0;34m,\u001b[0m \u001b[0mn\u001b[0m\u001b[0;34m)\u001b[0m \u001b[0;34m+\u001b[0m \u001b[0mgridWalk\u001b[0m\u001b[0;34m(\u001b[0m\u001b[0mm\u001b[0m\u001b[0;34m,\u001b[0m \u001b[0mn\u001b[0m\u001b[0;34m-\u001b[0m\u001b[0;36m1\u001b[0m\u001b[0;34m)\u001b[0m\u001b[0;34m\u001b[0m\u001b[0;34m\u001b[0m\u001b[0m\n\u001b[0m\u001b[1;32m     10\u001b[0m     \u001b[0;32mreturn\u001b[0m \u001b[0mmemo\u001b[0m\u001b[0;34m[\u001b[0m\u001b[0;34m(\u001b[0m\u001b[0mm\u001b[0m\u001b[0;34m,\u001b[0m \u001b[0mn\u001b[0m\u001b[0;34m)\u001b[0m\u001b[0;34m]\u001b[0m\u001b[0;34m\u001b[0m\u001b[0;34m\u001b[0m\u001b[0m\n\u001b[1;32m     11\u001b[0m \u001b[0;34m\u001b[0m\u001b[0m\n",
      "\u001b[0;32m<ipython-input-437-bf47e10393ed>\u001b[0m in \u001b[0;36mgridWalk\u001b[0;34m(m, n, memo)\u001b[0m\n\u001b[1;32m      7\u001b[0m         \u001b[0;32mreturn\u001b[0m \u001b[0;36m1\u001b[0m\u001b[0;34m\u001b[0m\u001b[0;34m\u001b[0m\u001b[0m\n\u001b[1;32m      8\u001b[0m \u001b[0;34m\u001b[0m\u001b[0m\n\u001b[0;32m----> 9\u001b[0;31m     \u001b[0mmemo\u001b[0m\u001b[0;34m[\u001b[0m\u001b[0;34m(\u001b[0m\u001b[0mm\u001b[0m\u001b[0;34m,\u001b[0m \u001b[0mn\u001b[0m\u001b[0;34m)\u001b[0m\u001b[0;34m]\u001b[0m \u001b[0;34m=\u001b[0m \u001b[0mgridWalk\u001b[0m\u001b[0;34m(\u001b[0m\u001b[0mm\u001b[0m\u001b[0;34m-\u001b[0m\u001b[0;36m1\u001b[0m\u001b[0;34m,\u001b[0m \u001b[0mn\u001b[0m\u001b[0;34m)\u001b[0m \u001b[0;34m+\u001b[0m \u001b[0mgridWalk\u001b[0m\u001b[0;34m(\u001b[0m\u001b[0mm\u001b[0m\u001b[0;34m,\u001b[0m \u001b[0mn\u001b[0m\u001b[0;34m-\u001b[0m\u001b[0;36m1\u001b[0m\u001b[0;34m)\u001b[0m\u001b[0;34m\u001b[0m\u001b[0;34m\u001b[0m\u001b[0m\n\u001b[0m\u001b[1;32m     10\u001b[0m     \u001b[0;32mreturn\u001b[0m \u001b[0mmemo\u001b[0m\u001b[0;34m[\u001b[0m\u001b[0;34m(\u001b[0m\u001b[0mm\u001b[0m\u001b[0;34m,\u001b[0m \u001b[0mn\u001b[0m\u001b[0;34m)\u001b[0m\u001b[0;34m]\u001b[0m\u001b[0;34m\u001b[0m\u001b[0;34m\u001b[0m\u001b[0m\n\u001b[1;32m     11\u001b[0m \u001b[0;34m\u001b[0m\u001b[0m\n",
      "\u001b[0;32m<ipython-input-437-bf47e10393ed>\u001b[0m in \u001b[0;36mgridWalk\u001b[0;34m(m, n, memo)\u001b[0m\n\u001b[1;32m      7\u001b[0m         \u001b[0;32mreturn\u001b[0m \u001b[0;36m1\u001b[0m\u001b[0;34m\u001b[0m\u001b[0;34m\u001b[0m\u001b[0m\n\u001b[1;32m      8\u001b[0m \u001b[0;34m\u001b[0m\u001b[0m\n\u001b[0;32m----> 9\u001b[0;31m     \u001b[0mmemo\u001b[0m\u001b[0;34m[\u001b[0m\u001b[0;34m(\u001b[0m\u001b[0mm\u001b[0m\u001b[0;34m,\u001b[0m \u001b[0mn\u001b[0m\u001b[0;34m)\u001b[0m\u001b[0;34m]\u001b[0m \u001b[0;34m=\u001b[0m \u001b[0mgridWalk\u001b[0m\u001b[0;34m(\u001b[0m\u001b[0mm\u001b[0m\u001b[0;34m-\u001b[0m\u001b[0;36m1\u001b[0m\u001b[0;34m,\u001b[0m \u001b[0mn\u001b[0m\u001b[0;34m)\u001b[0m \u001b[0;34m+\u001b[0m \u001b[0mgridWalk\u001b[0m\u001b[0;34m(\u001b[0m\u001b[0mm\u001b[0m\u001b[0;34m,\u001b[0m \u001b[0mn\u001b[0m\u001b[0;34m-\u001b[0m\u001b[0;36m1\u001b[0m\u001b[0;34m)\u001b[0m\u001b[0;34m\u001b[0m\u001b[0;34m\u001b[0m\u001b[0m\n\u001b[0m\u001b[1;32m     10\u001b[0m     \u001b[0;32mreturn\u001b[0m \u001b[0mmemo\u001b[0m\u001b[0;34m[\u001b[0m\u001b[0;34m(\u001b[0m\u001b[0mm\u001b[0m\u001b[0;34m,\u001b[0m \u001b[0mn\u001b[0m\u001b[0;34m)\u001b[0m\u001b[0;34m]\u001b[0m\u001b[0;34m\u001b[0m\u001b[0;34m\u001b[0m\u001b[0m\n\u001b[1;32m     11\u001b[0m \u001b[0;34m\u001b[0m\u001b[0m\n",
      "\u001b[0;32m<ipython-input-437-bf47e10393ed>\u001b[0m in \u001b[0;36mgridWalk\u001b[0;34m(m, n, memo)\u001b[0m\n\u001b[1;32m      7\u001b[0m         \u001b[0;32mreturn\u001b[0m \u001b[0;36m1\u001b[0m\u001b[0;34m\u001b[0m\u001b[0;34m\u001b[0m\u001b[0m\n\u001b[1;32m      8\u001b[0m \u001b[0;34m\u001b[0m\u001b[0m\n\u001b[0;32m----> 9\u001b[0;31m     \u001b[0mmemo\u001b[0m\u001b[0;34m[\u001b[0m\u001b[0;34m(\u001b[0m\u001b[0mm\u001b[0m\u001b[0;34m,\u001b[0m \u001b[0mn\u001b[0m\u001b[0;34m)\u001b[0m\u001b[0;34m]\u001b[0m \u001b[0;34m=\u001b[0m \u001b[0mgridWalk\u001b[0m\u001b[0;34m(\u001b[0m\u001b[0mm\u001b[0m\u001b[0;34m-\u001b[0m\u001b[0;36m1\u001b[0m\u001b[0;34m,\u001b[0m \u001b[0mn\u001b[0m\u001b[0;34m)\u001b[0m \u001b[0;34m+\u001b[0m \u001b[0mgridWalk\u001b[0m\u001b[0;34m(\u001b[0m\u001b[0mm\u001b[0m\u001b[0;34m,\u001b[0m \u001b[0mn\u001b[0m\u001b[0;34m-\u001b[0m\u001b[0;36m1\u001b[0m\u001b[0;34m)\u001b[0m\u001b[0;34m\u001b[0m\u001b[0;34m\u001b[0m\u001b[0m\n\u001b[0m\u001b[1;32m     10\u001b[0m     \u001b[0;32mreturn\u001b[0m \u001b[0mmemo\u001b[0m\u001b[0;34m[\u001b[0m\u001b[0;34m(\u001b[0m\u001b[0mm\u001b[0m\u001b[0;34m,\u001b[0m \u001b[0mn\u001b[0m\u001b[0;34m)\u001b[0m\u001b[0;34m]\u001b[0m\u001b[0;34m\u001b[0m\u001b[0;34m\u001b[0m\u001b[0m\n\u001b[1;32m     11\u001b[0m \u001b[0;34m\u001b[0m\u001b[0m\n",
      "\u001b[0;32m<ipython-input-437-bf47e10393ed>\u001b[0m in \u001b[0;36mgridWalk\u001b[0;34m(m, n, memo)\u001b[0m\n\u001b[1;32m      7\u001b[0m         \u001b[0;32mreturn\u001b[0m \u001b[0;36m1\u001b[0m\u001b[0;34m\u001b[0m\u001b[0;34m\u001b[0m\u001b[0m\n\u001b[1;32m      8\u001b[0m \u001b[0;34m\u001b[0m\u001b[0m\n\u001b[0;32m----> 9\u001b[0;31m     \u001b[0mmemo\u001b[0m\u001b[0;34m[\u001b[0m\u001b[0;34m(\u001b[0m\u001b[0mm\u001b[0m\u001b[0;34m,\u001b[0m \u001b[0mn\u001b[0m\u001b[0;34m)\u001b[0m\u001b[0;34m]\u001b[0m \u001b[0;34m=\u001b[0m \u001b[0mgridWalk\u001b[0m\u001b[0;34m(\u001b[0m\u001b[0mm\u001b[0m\u001b[0;34m-\u001b[0m\u001b[0;36m1\u001b[0m\u001b[0;34m,\u001b[0m \u001b[0mn\u001b[0m\u001b[0;34m)\u001b[0m \u001b[0;34m+\u001b[0m \u001b[0mgridWalk\u001b[0m\u001b[0;34m(\u001b[0m\u001b[0mm\u001b[0m\u001b[0;34m,\u001b[0m \u001b[0mn\u001b[0m\u001b[0;34m-\u001b[0m\u001b[0;36m1\u001b[0m\u001b[0;34m)\u001b[0m\u001b[0;34m\u001b[0m\u001b[0;34m\u001b[0m\u001b[0m\n\u001b[0m\u001b[1;32m     10\u001b[0m     \u001b[0;32mreturn\u001b[0m \u001b[0mmemo\u001b[0m\u001b[0;34m[\u001b[0m\u001b[0;34m(\u001b[0m\u001b[0mm\u001b[0m\u001b[0;34m,\u001b[0m \u001b[0mn\u001b[0m\u001b[0;34m)\u001b[0m\u001b[0;34m]\u001b[0m\u001b[0;34m\u001b[0m\u001b[0;34m\u001b[0m\u001b[0m\n\u001b[1;32m     11\u001b[0m \u001b[0;34m\u001b[0m\u001b[0m\n",
      "\u001b[0;32m<ipython-input-437-bf47e10393ed>\u001b[0m in \u001b[0;36mgridWalk\u001b[0;34m(m, n, memo)\u001b[0m\n\u001b[1;32m      7\u001b[0m         \u001b[0;32mreturn\u001b[0m \u001b[0;36m1\u001b[0m\u001b[0;34m\u001b[0m\u001b[0;34m\u001b[0m\u001b[0m\n\u001b[1;32m      8\u001b[0m \u001b[0;34m\u001b[0m\u001b[0m\n\u001b[0;32m----> 9\u001b[0;31m     \u001b[0mmemo\u001b[0m\u001b[0;34m[\u001b[0m\u001b[0;34m(\u001b[0m\u001b[0mm\u001b[0m\u001b[0;34m,\u001b[0m \u001b[0mn\u001b[0m\u001b[0;34m)\u001b[0m\u001b[0;34m]\u001b[0m \u001b[0;34m=\u001b[0m \u001b[0mgridWalk\u001b[0m\u001b[0;34m(\u001b[0m\u001b[0mm\u001b[0m\u001b[0;34m-\u001b[0m\u001b[0;36m1\u001b[0m\u001b[0;34m,\u001b[0m \u001b[0mn\u001b[0m\u001b[0;34m)\u001b[0m \u001b[0;34m+\u001b[0m \u001b[0mgridWalk\u001b[0m\u001b[0;34m(\u001b[0m\u001b[0mm\u001b[0m\u001b[0;34m,\u001b[0m \u001b[0mn\u001b[0m\u001b[0;34m-\u001b[0m\u001b[0;36m1\u001b[0m\u001b[0;34m)\u001b[0m\u001b[0;34m\u001b[0m\u001b[0;34m\u001b[0m\u001b[0m\n\u001b[0m\u001b[1;32m     10\u001b[0m     \u001b[0;32mreturn\u001b[0m \u001b[0mmemo\u001b[0m\u001b[0;34m[\u001b[0m\u001b[0;34m(\u001b[0m\u001b[0mm\u001b[0m\u001b[0;34m,\u001b[0m \u001b[0mn\u001b[0m\u001b[0;34m)\u001b[0m\u001b[0;34m]\u001b[0m\u001b[0;34m\u001b[0m\u001b[0;34m\u001b[0m\u001b[0m\n\u001b[1;32m     11\u001b[0m \u001b[0;34m\u001b[0m\u001b[0m\n",
      "\u001b[0;32m<ipython-input-437-bf47e10393ed>\u001b[0m in \u001b[0;36mgridWalk\u001b[0;34m(m, n, memo)\u001b[0m\n\u001b[1;32m      7\u001b[0m         \u001b[0;32mreturn\u001b[0m \u001b[0;36m1\u001b[0m\u001b[0;34m\u001b[0m\u001b[0;34m\u001b[0m\u001b[0m\n\u001b[1;32m      8\u001b[0m \u001b[0;34m\u001b[0m\u001b[0m\n\u001b[0;32m----> 9\u001b[0;31m     \u001b[0mmemo\u001b[0m\u001b[0;34m[\u001b[0m\u001b[0;34m(\u001b[0m\u001b[0mm\u001b[0m\u001b[0;34m,\u001b[0m \u001b[0mn\u001b[0m\u001b[0;34m)\u001b[0m\u001b[0;34m]\u001b[0m \u001b[0;34m=\u001b[0m \u001b[0mgridWalk\u001b[0m\u001b[0;34m(\u001b[0m\u001b[0mm\u001b[0m\u001b[0;34m-\u001b[0m\u001b[0;36m1\u001b[0m\u001b[0;34m,\u001b[0m \u001b[0mn\u001b[0m\u001b[0;34m)\u001b[0m \u001b[0;34m+\u001b[0m \u001b[0mgridWalk\u001b[0m\u001b[0;34m(\u001b[0m\u001b[0mm\u001b[0m\u001b[0;34m,\u001b[0m \u001b[0mn\u001b[0m\u001b[0;34m-\u001b[0m\u001b[0;36m1\u001b[0m\u001b[0;34m)\u001b[0m\u001b[0;34m\u001b[0m\u001b[0;34m\u001b[0m\u001b[0m\n\u001b[0m\u001b[1;32m     10\u001b[0m     \u001b[0;32mreturn\u001b[0m \u001b[0mmemo\u001b[0m\u001b[0;34m[\u001b[0m\u001b[0;34m(\u001b[0m\u001b[0mm\u001b[0m\u001b[0;34m,\u001b[0m \u001b[0mn\u001b[0m\u001b[0;34m)\u001b[0m\u001b[0;34m]\u001b[0m\u001b[0;34m\u001b[0m\u001b[0;34m\u001b[0m\u001b[0m\n\u001b[1;32m     11\u001b[0m \u001b[0;34m\u001b[0m\u001b[0m\n",
      "\u001b[0;32m<ipython-input-437-bf47e10393ed>\u001b[0m in \u001b[0;36mgridWalk\u001b[0;34m(m, n, memo)\u001b[0m\n\u001b[1;32m      7\u001b[0m         \u001b[0;32mreturn\u001b[0m \u001b[0;36m1\u001b[0m\u001b[0;34m\u001b[0m\u001b[0;34m\u001b[0m\u001b[0m\n\u001b[1;32m      8\u001b[0m \u001b[0;34m\u001b[0m\u001b[0m\n\u001b[0;32m----> 9\u001b[0;31m     \u001b[0mmemo\u001b[0m\u001b[0;34m[\u001b[0m\u001b[0;34m(\u001b[0m\u001b[0mm\u001b[0m\u001b[0;34m,\u001b[0m \u001b[0mn\u001b[0m\u001b[0;34m)\u001b[0m\u001b[0;34m]\u001b[0m \u001b[0;34m=\u001b[0m \u001b[0mgridWalk\u001b[0m\u001b[0;34m(\u001b[0m\u001b[0mm\u001b[0m\u001b[0;34m-\u001b[0m\u001b[0;36m1\u001b[0m\u001b[0;34m,\u001b[0m \u001b[0mn\u001b[0m\u001b[0;34m)\u001b[0m \u001b[0;34m+\u001b[0m \u001b[0mgridWalk\u001b[0m\u001b[0;34m(\u001b[0m\u001b[0mm\u001b[0m\u001b[0;34m,\u001b[0m \u001b[0mn\u001b[0m\u001b[0;34m-\u001b[0m\u001b[0;36m1\u001b[0m\u001b[0;34m)\u001b[0m\u001b[0;34m\u001b[0m\u001b[0;34m\u001b[0m\u001b[0m\n\u001b[0m\u001b[1;32m     10\u001b[0m     \u001b[0;32mreturn\u001b[0m \u001b[0mmemo\u001b[0m\u001b[0;34m[\u001b[0m\u001b[0;34m(\u001b[0m\u001b[0mm\u001b[0m\u001b[0;34m,\u001b[0m \u001b[0mn\u001b[0m\u001b[0;34m)\u001b[0m\u001b[0;34m]\u001b[0m\u001b[0;34m\u001b[0m\u001b[0;34m\u001b[0m\u001b[0m\n\u001b[1;32m     11\u001b[0m \u001b[0;34m\u001b[0m\u001b[0m\n",
      "\u001b[0;32m<ipython-input-437-bf47e10393ed>\u001b[0m in \u001b[0;36mgridWalk\u001b[0;34m(m, n, memo)\u001b[0m\n\u001b[1;32m      7\u001b[0m         \u001b[0;32mreturn\u001b[0m \u001b[0;36m1\u001b[0m\u001b[0;34m\u001b[0m\u001b[0;34m\u001b[0m\u001b[0m\n\u001b[1;32m      8\u001b[0m \u001b[0;34m\u001b[0m\u001b[0m\n\u001b[0;32m----> 9\u001b[0;31m     \u001b[0mmemo\u001b[0m\u001b[0;34m[\u001b[0m\u001b[0;34m(\u001b[0m\u001b[0mm\u001b[0m\u001b[0;34m,\u001b[0m \u001b[0mn\u001b[0m\u001b[0;34m)\u001b[0m\u001b[0;34m]\u001b[0m \u001b[0;34m=\u001b[0m \u001b[0mgridWalk\u001b[0m\u001b[0;34m(\u001b[0m\u001b[0mm\u001b[0m\u001b[0;34m-\u001b[0m\u001b[0;36m1\u001b[0m\u001b[0;34m,\u001b[0m \u001b[0mn\u001b[0m\u001b[0;34m)\u001b[0m \u001b[0;34m+\u001b[0m \u001b[0mgridWalk\u001b[0m\u001b[0;34m(\u001b[0m\u001b[0mm\u001b[0m\u001b[0;34m,\u001b[0m \u001b[0mn\u001b[0m\u001b[0;34m-\u001b[0m\u001b[0;36m1\u001b[0m\u001b[0;34m)\u001b[0m\u001b[0;34m\u001b[0m\u001b[0;34m\u001b[0m\u001b[0m\n\u001b[0m\u001b[1;32m     10\u001b[0m     \u001b[0;32mreturn\u001b[0m \u001b[0mmemo\u001b[0m\u001b[0;34m[\u001b[0m\u001b[0;34m(\u001b[0m\u001b[0mm\u001b[0m\u001b[0;34m,\u001b[0m \u001b[0mn\u001b[0m\u001b[0;34m)\u001b[0m\u001b[0;34m]\u001b[0m\u001b[0;34m\u001b[0m\u001b[0;34m\u001b[0m\u001b[0m\n\u001b[1;32m     11\u001b[0m \u001b[0;34m\u001b[0m\u001b[0m\n",
      "\u001b[0;32m<ipython-input-437-bf47e10393ed>\u001b[0m in \u001b[0;36mgridWalk\u001b[0;34m(m, n, memo)\u001b[0m\n\u001b[1;32m      7\u001b[0m         \u001b[0;32mreturn\u001b[0m \u001b[0;36m1\u001b[0m\u001b[0;34m\u001b[0m\u001b[0;34m\u001b[0m\u001b[0m\n\u001b[1;32m      8\u001b[0m \u001b[0;34m\u001b[0m\u001b[0m\n\u001b[0;32m----> 9\u001b[0;31m     \u001b[0mmemo\u001b[0m\u001b[0;34m[\u001b[0m\u001b[0;34m(\u001b[0m\u001b[0mm\u001b[0m\u001b[0;34m,\u001b[0m \u001b[0mn\u001b[0m\u001b[0;34m)\u001b[0m\u001b[0;34m]\u001b[0m \u001b[0;34m=\u001b[0m \u001b[0mgridWalk\u001b[0m\u001b[0;34m(\u001b[0m\u001b[0mm\u001b[0m\u001b[0;34m-\u001b[0m\u001b[0;36m1\u001b[0m\u001b[0;34m,\u001b[0m \u001b[0mn\u001b[0m\u001b[0;34m)\u001b[0m \u001b[0;34m+\u001b[0m \u001b[0mgridWalk\u001b[0m\u001b[0;34m(\u001b[0m\u001b[0mm\u001b[0m\u001b[0;34m,\u001b[0m \u001b[0mn\u001b[0m\u001b[0;34m-\u001b[0m\u001b[0;36m1\u001b[0m\u001b[0;34m)\u001b[0m\u001b[0;34m\u001b[0m\u001b[0;34m\u001b[0m\u001b[0m\n\u001b[0m\u001b[1;32m     10\u001b[0m     \u001b[0;32mreturn\u001b[0m \u001b[0mmemo\u001b[0m\u001b[0;34m[\u001b[0m\u001b[0;34m(\u001b[0m\u001b[0mm\u001b[0m\u001b[0;34m,\u001b[0m \u001b[0mn\u001b[0m\u001b[0;34m)\u001b[0m\u001b[0;34m]\u001b[0m\u001b[0;34m\u001b[0m\u001b[0;34m\u001b[0m\u001b[0m\n\u001b[1;32m     11\u001b[0m \u001b[0;34m\u001b[0m\u001b[0m\n",
      "\u001b[0;31mKeyboardInterrupt\u001b[0m: "
     ]
    }
   ],
   "source": [
    "def gridWalk(m, n, memo = {}):\n",
    "    \n",
    "    if m == 0 or n == 0:\n",
    "        return 0\n",
    "    \n",
    "    if m == 1 and n ==1:\n",
    "        return 1\n",
    "    \n",
    "    memo[(m, n)] = gridWalk(m-1, n) + gridWalk(m, n-1)\n",
    "    return memo[(m, n)]\n",
    "\n",
    "gridWalk(18,18)"
   ]
  },
  {
   "cell_type": "code",
   "execution_count": 432,
   "id": "2b5e6d9c",
   "metadata": {},
   "outputs": [
    {
     "data": {
      "text/plain": [
       "1"
      ]
     },
     "execution_count": 432,
     "metadata": {},
     "output_type": "execute_result"
    }
   ],
   "source": [
    "mem = {(2, 3): 1}\n",
    "mem[(2, 3)]"
   ]
  },
  {
   "cell_type": "code",
   "execution_count": null,
   "id": "546fa15a",
   "metadata": {},
   "outputs": [],
   "source": []
  }
 ],
 "metadata": {
  "kernelspec": {
   "display_name": "Python 3",
   "language": "python",
   "name": "python3"
  },
  "language_info": {
   "codemirror_mode": {
    "name": "ipython",
    "version": 3
   },
   "file_extension": ".py",
   "mimetype": "text/x-python",
   "name": "python",
   "nbconvert_exporter": "python",
   "pygments_lexer": "ipython3",
   "version": "3.8.8"
  }
 },
 "nbformat": 4,
 "nbformat_minor": 5
}
